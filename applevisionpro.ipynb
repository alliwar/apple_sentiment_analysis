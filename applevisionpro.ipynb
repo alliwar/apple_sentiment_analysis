{
 "cells": [
  {
   "cell_type": "code",
   "execution_count": 1,
   "id": "ae94fc65-8a82-4740-9ef4-6445e9b22087",
   "metadata": {},
   "outputs": [],
   "source": [
    "# loading the dataset from huggingface\n",
    "from datasets import load_dataset\n",
    "\n",
    "dataset = load_dataset(\"divyasharma0795/AppleVisionPro_Tweets\")"
   ]
  },
  {
   "cell_type": "code",
   "execution_count": 2,
   "id": "a02997fc-b55c-419f-888f-a0b044cfe6eb",
   "metadata": {},
   "outputs": [],
   "source": [
    "import pandas as pd\n",
    "import numpy as np"
   ]
  },
  {
   "cell_type": "code",
   "execution_count": 15,
   "id": "3341ddc5-6e5c-49b9-983c-8d13148b6959",
   "metadata": {},
   "outputs": [
    {
     "name": "stdout",
     "output_type": "stream",
     "text": [
      "<class 'datasets.dataset_dict.DatasetDict'>\n"
     ]
    },
    {
     "data": {
      "text/plain": [
       "{'id': 1769458624638619691,\n",
       " 'tweetText': \"Mordecai I can't sell nft for 10 dollars, how does this nft business work? #bloodbath #AppleVisionPro #DeadpoolAndWolverine #RegularShow @JGQuintel link: https://t.co/Bq3dzV4wgR https://t.co/rbrerIFcIs\",\n",
       " 'tweetURL': 'https://twitter.com/harndefty/status/1769458624638619691',\n",
       " 'type': 'tweet',\n",
       " 'tweetAuthor': 'Harndefty 🐔🍗',\n",
       " 'handle': '@harndefty',\n",
       " 'replyCount': 0,\n",
       " 'quoteCount': 0,\n",
       " 'retweetCount': 0,\n",
       " 'likeCount': 0,\n",
       " 'views': '26',\n",
       " 'bookmarkCount': 0,\n",
       " 'createdAt': '2024-03-17 13:19:45'}"
      ]
     },
     "execution_count": 15,
     "metadata": {},
     "output_type": "execute_result"
    }
   ],
   "source": [
    "# checking out the type of the data and looking at the first entry of the training set\n",
    "print(type(dataset))\n",
    "dataset['train'][0]"
   ]
  },
  {
   "cell_type": "code",
   "execution_count": 4,
   "id": "0a5ad0c0-9ab2-4e66-ae5c-27b2f8470358",
   "metadata": {},
   "outputs": [
    {
     "data": {
      "text/html": [
       "<div>\n",
       "<style scoped>\n",
       "    .dataframe tbody tr th:only-of-type {\n",
       "        vertical-align: middle;\n",
       "    }\n",
       "\n",
       "    .dataframe tbody tr th {\n",
       "        vertical-align: top;\n",
       "    }\n",
       "\n",
       "    .dataframe thead th {\n",
       "        text-align: right;\n",
       "    }\n",
       "</style>\n",
       "<table border=\"1\" class=\"dataframe\">\n",
       "  <thead>\n",
       "    <tr style=\"text-align: right;\">\n",
       "      <th></th>\n",
       "      <th>id</th>\n",
       "      <th>tweetText</th>\n",
       "      <th>tweetURL</th>\n",
       "      <th>type</th>\n",
       "      <th>tweetAuthor</th>\n",
       "      <th>handle</th>\n",
       "      <th>replyCount</th>\n",
       "      <th>quoteCount</th>\n",
       "      <th>retweetCount</th>\n",
       "      <th>likeCount</th>\n",
       "      <th>views</th>\n",
       "      <th>bookmarkCount</th>\n",
       "      <th>createdAt</th>\n",
       "    </tr>\n",
       "  </thead>\n",
       "  <tbody>\n",
       "    <tr>\n",
       "      <th>0</th>\n",
       "      <td>1769458624638619691</td>\n",
       "      <td>Mordecai I can't sell nft for 10 dollars, how ...</td>\n",
       "      <td>https://twitter.com/harndefty/status/176945862...</td>\n",
       "      <td>tweet</td>\n",
       "      <td>Harndefty 🐔🍗</td>\n",
       "      <td>@harndefty</td>\n",
       "      <td>0</td>\n",
       "      <td>0</td>\n",
       "      <td>0</td>\n",
       "      <td>0</td>\n",
       "      <td>26</td>\n",
       "      <td>0</td>\n",
       "      <td>2024-03-17 13:19:45</td>\n",
       "    </tr>\n",
       "    <tr>\n",
       "      <th>1</th>\n",
       "      <td>1769456825731346925</td>\n",
       "      <td>Here’s one recent example I found https://t.co...</td>\n",
       "      <td>https://twitter.com/leighdunsford/status/17694...</td>\n",
       "      <td>tweet</td>\n",
       "      <td>Leigh</td>\n",
       "      <td>@leighdunsford</td>\n",
       "      <td>0</td>\n",
       "      <td>0</td>\n",
       "      <td>0</td>\n",
       "      <td>0</td>\n",
       "      <td>6</td>\n",
       "      <td>0</td>\n",
       "      <td>2024-03-17 13:12:36</td>\n",
       "    </tr>\n",
       "    <tr>\n",
       "      <th>2</th>\n",
       "      <td>1769454738704302260</td>\n",
       "      <td>Never miss your Apple Vision Pro wherever you ...</td>\n",
       "      <td>https://twitter.com/Techlistics/status/1769454...</td>\n",
       "      <td>tweet</td>\n",
       "      <td>Techlistics</td>\n",
       "      <td>@Techlistics</td>\n",
       "      <td>0</td>\n",
       "      <td>0</td>\n",
       "      <td>0</td>\n",
       "      <td>1</td>\n",
       "      <td>52</td>\n",
       "      <td>0</td>\n",
       "      <td>2024-03-17 13:04:19</td>\n",
       "    </tr>\n",
       "    <tr>\n",
       "      <th>3</th>\n",
       "      <td>1769438420114317638</td>\n",
       "      <td>L'Apple Vision Pro n'est pas encore disponible...</td>\n",
       "      <td>https://twitter.com/Deals_Store_Fr/status/1769...</td>\n",
       "      <td>tweet</td>\n",
       "      <td>Deals_Store 🇫🇷</td>\n",
       "      <td>@Deals_Store_Fr</td>\n",
       "      <td>0</td>\n",
       "      <td>0</td>\n",
       "      <td>0</td>\n",
       "      <td>1</td>\n",
       "      <td>281</td>\n",
       "      <td>0</td>\n",
       "      <td>2024-03-17 11:59:28</td>\n",
       "    </tr>\n",
       "    <tr>\n",
       "      <th>4</th>\n",
       "      <td>1769434792159039744</td>\n",
       "      <td>مقارنة بين نظارتي Apple Vision Pro و Meta Ques...</td>\n",
       "      <td>https://twitter.com/aitnews/status/17694347921...</td>\n",
       "      <td>tweet</td>\n",
       "      <td>البوابة العربية للأخبار التقنية AITnews</td>\n",
       "      <td>@aitnews</td>\n",
       "      <td>0</td>\n",
       "      <td>0</td>\n",
       "      <td>0</td>\n",
       "      <td>0</td>\n",
       "      <td>342</td>\n",
       "      <td>0</td>\n",
       "      <td>2024-03-17 11:45:03</td>\n",
       "    </tr>\n",
       "  </tbody>\n",
       "</table>\n",
       "</div>"
      ],
      "text/plain": [
       "                    id                                          tweetText  \\\n",
       "0  1769458624638619691  Mordecai I can't sell nft for 10 dollars, how ...   \n",
       "1  1769456825731346925  Here’s one recent example I found https://t.co...   \n",
       "2  1769454738704302260  Never miss your Apple Vision Pro wherever you ...   \n",
       "3  1769438420114317638  L'Apple Vision Pro n'est pas encore disponible...   \n",
       "4  1769434792159039744  مقارنة بين نظارتي Apple Vision Pro و Meta Ques...   \n",
       "\n",
       "                                            tweetURL   type  \\\n",
       "0  https://twitter.com/harndefty/status/176945862...  tweet   \n",
       "1  https://twitter.com/leighdunsford/status/17694...  tweet   \n",
       "2  https://twitter.com/Techlistics/status/1769454...  tweet   \n",
       "3  https://twitter.com/Deals_Store_Fr/status/1769...  tweet   \n",
       "4  https://twitter.com/aitnews/status/17694347921...  tweet   \n",
       "\n",
       "                               tweetAuthor           handle  replyCount  \\\n",
       "0                             Harndefty 🐔🍗       @harndefty           0   \n",
       "1                                    Leigh   @leighdunsford           0   \n",
       "2                              Techlistics     @Techlistics           0   \n",
       "3                           Deals_Store 🇫🇷  @Deals_Store_Fr           0   \n",
       "4  البوابة العربية للأخبار التقنية AITnews         @aitnews           0   \n",
       "\n",
       "   quoteCount  retweetCount  likeCount views  bookmarkCount  \\\n",
       "0           0             0          0    26              0   \n",
       "1           0             0          0     6              0   \n",
       "2           0             0          1    52              0   \n",
       "3           0             0          1   281              0   \n",
       "4           0             0          0   342              0   \n",
       "\n",
       "             createdAt  \n",
       "0  2024-03-17 13:19:45  \n",
       "1  2024-03-17 13:12:36  \n",
       "2  2024-03-17 13:04:19  \n",
       "3  2024-03-17 11:59:28  \n",
       "4  2024-03-17 11:45:03  "
      ]
     },
     "execution_count": 4,
     "metadata": {},
     "output_type": "execute_result"
    }
   ],
   "source": [
    "# Select a specific dataset within the DatasetDict\n",
    "selected_dataset = dataset[\"train\"] \n",
    "\n",
    "# Convert the selected dataset to a pandas DataFrame\n",
    "df = pd.DataFrame(selected_dataset)\n",
    "\n",
    "# Display the first few rows of the DataFrame\n",
    "df.head()"
   ]
  },
  {
   "cell_type": "code",
   "execution_count": 5,
   "id": "20ea1d4c-e0c3-4c8a-93af-6005d4265813",
   "metadata": {},
   "outputs": [],
   "source": [
    "#! pip install vaderSentiment"
   ]
  },
  {
   "cell_type": "code",
   "execution_count": 6,
   "id": "a68e33de-bccf-4914-b3b7-7a1b88cdab7e",
   "metadata": {},
   "outputs": [],
   "source": [
    "#!pip list | grep vader"
   ]
  },
  {
   "cell_type": "code",
   "execution_count": 7,
   "id": "8d16c781-b1df-46e9-8f98-6a02b62f9e96",
   "metadata": {},
   "outputs": [
    {
     "name": "stdout",
     "output_type": "stream",
     "text": [
      "/Users/Alli/Documents/Flatiron/apple_vision_pro_dataset/.env/bin/python\n"
     ]
    }
   ],
   "source": [
    "!which python"
   ]
  },
  {
   "cell_type": "code",
   "execution_count": 8,
   "id": "bf86cf13-d2f8-4510-b79f-3e4a835d4455",
   "metadata": {},
   "outputs": [],
   "source": [
    "#!pip install --upgrade vaderSentiment"
   ]
  },
  {
   "cell_type": "code",
   "execution_count": 9,
   "id": "6e73f4d5-f799-41bb-8cdb-6fc3336f167b",
   "metadata": {},
   "outputs": [
    {
     "data": {
      "text/plain": [
       "['/Users/Alli/anaconda3/envs/learn-env/lib/python39.zip',\n",
       " '/Users/Alli/anaconda3/envs/learn-env/lib/python3.9',\n",
       " '/Users/Alli/anaconda3/envs/learn-env/lib/python3.9/lib-dynload',\n",
       " '',\n",
       " '/Users/Alli/anaconda3/envs/learn-env/lib/python3.9/site-packages',\n",
       " '/Users/Alli/anaconda3/envs/learn-env/lib/python3.9/site-packages/huggingface_hub-0.23.0-py3.8.egg']"
      ]
     },
     "execution_count": 9,
     "metadata": {},
     "output_type": "execute_result"
    }
   ],
   "source": [
    "import sys\n",
    "sys.path"
   ]
  },
  {
   "cell_type": "code",
   "execution_count": 10,
   "id": "b8b0df8e-aa79-4171-a293-593ff1b55458",
   "metadata": {},
   "outputs": [
    {
     "name": "stdout",
     "output_type": "stream",
     "text": [
      "Name: vaderSentiment\n",
      "Version: 3.3.2\n",
      "Summary: VADER Sentiment Analysis. VADER (Valence Aware Dictionary and sEntiment Reasoner) is a lexicon and rule-based sentiment analysis tool that is specifically attuned to sentiments expressed in social media, and works well on texts from other domains.\n",
      "Home-page: https://github.com/cjhutto/vaderSentiment\n",
      "Author: C.J. Hutto\n",
      "Author-email: cjhutto@gatech.edu\n",
      "License: MIT License\n",
      "Location: /Users/Alli/Documents/Flatiron/apple_vision_pro_dataset/.env/lib/python3.9/site-packages\n",
      "Requires: requests\n",
      "Required-by: \n"
     ]
    }
   ],
   "source": [
    "!pip show vaderSentiment"
   ]
  },
  {
   "cell_type": "code",
   "execution_count": 11,
   "id": "0d23e27a-abd3-4c2b-b80e-1c08bb29f5ce",
   "metadata": {},
   "outputs": [],
   "source": [
    "#!pip install --upgrade vaderSentiment"
   ]
  },
  {
   "cell_type": "code",
   "execution_count": 12,
   "id": "c5d77a29-b9d2-4a5e-8446-c631b13469ff",
   "metadata": {},
   "outputs": [],
   "source": [
    "#from vaderSentiment import SentimentIntensityAnalyzer\n",
    "from vaderSentiment.vaderSentiment import SentimentIntensityAnalyzer"
   ]
  },
  {
   "cell_type": "code",
   "execution_count": 14,
   "id": "997d578a-a53c-496a-b3fe-08ab43aa963e",
   "metadata": {},
   "outputs": [
    {
     "name": "stdout",
     "output_type": "stream",
     "text": [
      "{'neg': 0.0, 'neu': 0.614, 'pos': 0.386, 'compound': 0.6588}\n"
     ]
    }
   ],
   "source": [
    "# making sure this is working with an example sentence\n",
    "analyzer = SentimentIntensityAnalyzer()\n",
    "\n",
    "# Example sentence\n",
    "sentence = \"VADER is a great tool for sentiment analysis!\"\n",
    "\n",
    "# Analyze sentiment\n",
    "sentiment = analyzer.polarity_scores(sentence)\n",
    "print(sentiment)\n"
   ]
  },
  {
   "cell_type": "code",
   "execution_count": 18,
   "id": "0bb25a2e-058b-43b9-91f7-028ab1bdd48f",
   "metadata": {},
   "outputs": [
    {
     "data": {
      "text/html": [
       "<div>\n",
       "<style scoped>\n",
       "    .dataframe tbody tr th:only-of-type {\n",
       "        vertical-align: middle;\n",
       "    }\n",
       "\n",
       "    .dataframe tbody tr th {\n",
       "        vertical-align: top;\n",
       "    }\n",
       "\n",
       "    .dataframe thead th {\n",
       "        text-align: right;\n",
       "    }\n",
       "</style>\n",
       "<table border=\"1\" class=\"dataframe\">\n",
       "  <thead>\n",
       "    <tr style=\"text-align: right;\">\n",
       "      <th></th>\n",
       "      <th>id</th>\n",
       "      <th>tweetText</th>\n",
       "      <th>tweetURL</th>\n",
       "      <th>type</th>\n",
       "      <th>tweetAuthor</th>\n",
       "      <th>handle</th>\n",
       "      <th>replyCount</th>\n",
       "      <th>quoteCount</th>\n",
       "      <th>retweetCount</th>\n",
       "      <th>likeCount</th>\n",
       "      <th>views</th>\n",
       "      <th>bookmarkCount</th>\n",
       "      <th>createdAt</th>\n",
       "      <th>neg</th>\n",
       "      <th>neu</th>\n",
       "      <th>pos</th>\n",
       "      <th>compound</th>\n",
       "    </tr>\n",
       "  </thead>\n",
       "  <tbody>\n",
       "    <tr>\n",
       "      <th>0</th>\n",
       "      <td>1769458624638619691</td>\n",
       "      <td>Mordecai I can't sell nft for 10 dollars, how ...</td>\n",
       "      <td>https://twitter.com/harndefty/status/176945862...</td>\n",
       "      <td>tweet</td>\n",
       "      <td>Harndefty 🐔🍗</td>\n",
       "      <td>@harndefty</td>\n",
       "      <td>0</td>\n",
       "      <td>0</td>\n",
       "      <td>0</td>\n",
       "      <td>0</td>\n",
       "      <td>26</td>\n",
       "      <td>0</td>\n",
       "      <td>2024-03-17 13:19:45</td>\n",
       "      <td>0.000</td>\n",
       "      <td>1.000</td>\n",
       "      <td>0.000</td>\n",
       "      <td>0.0000</td>\n",
       "    </tr>\n",
       "    <tr>\n",
       "      <th>1</th>\n",
       "      <td>1769456825731346925</td>\n",
       "      <td>Here’s one recent example I found https://t.co...</td>\n",
       "      <td>https://twitter.com/leighdunsford/status/17694...</td>\n",
       "      <td>tweet</td>\n",
       "      <td>Leigh</td>\n",
       "      <td>@leighdunsford</td>\n",
       "      <td>0</td>\n",
       "      <td>0</td>\n",
       "      <td>0</td>\n",
       "      <td>0</td>\n",
       "      <td>6</td>\n",
       "      <td>0</td>\n",
       "      <td>2024-03-17 13:12:36</td>\n",
       "      <td>0.000</td>\n",
       "      <td>1.000</td>\n",
       "      <td>0.000</td>\n",
       "      <td>0.0000</td>\n",
       "    </tr>\n",
       "    <tr>\n",
       "      <th>2</th>\n",
       "      <td>1769454738704302260</td>\n",
       "      <td>Never miss your Apple Vision Pro wherever you ...</td>\n",
       "      <td>https://twitter.com/Techlistics/status/1769454...</td>\n",
       "      <td>tweet</td>\n",
       "      <td>Techlistics</td>\n",
       "      <td>@Techlistics</td>\n",
       "      <td>0</td>\n",
       "      <td>0</td>\n",
       "      <td>0</td>\n",
       "      <td>1</td>\n",
       "      <td>52</td>\n",
       "      <td>0</td>\n",
       "      <td>2024-03-17 13:04:19</td>\n",
       "      <td>0.000</td>\n",
       "      <td>0.906</td>\n",
       "      <td>0.094</td>\n",
       "      <td>0.6777</td>\n",
       "    </tr>\n",
       "    <tr>\n",
       "      <th>3</th>\n",
       "      <td>1769438420114317638</td>\n",
       "      <td>L'Apple Vision Pro n'est pas encore disponible...</td>\n",
       "      <td>https://twitter.com/Deals_Store_Fr/status/1769...</td>\n",
       "      <td>tweet</td>\n",
       "      <td>Deals_Store 🇫🇷</td>\n",
       "      <td>@Deals_Store_Fr</td>\n",
       "      <td>0</td>\n",
       "      <td>0</td>\n",
       "      <td>0</td>\n",
       "      <td>1</td>\n",
       "      <td>281</td>\n",
       "      <td>0</td>\n",
       "      <td>2024-03-17 11:59:28</td>\n",
       "      <td>0.037</td>\n",
       "      <td>0.796</td>\n",
       "      <td>0.167</td>\n",
       "      <td>0.6369</td>\n",
       "    </tr>\n",
       "    <tr>\n",
       "      <th>4</th>\n",
       "      <td>1769434792159039744</td>\n",
       "      <td>مقارنة بين نظارتي Apple Vision Pro و Meta Ques...</td>\n",
       "      <td>https://twitter.com/aitnews/status/17694347921...</td>\n",
       "      <td>tweet</td>\n",
       "      <td>البوابة العربية للأخبار التقنية AITnews</td>\n",
       "      <td>@aitnews</td>\n",
       "      <td>0</td>\n",
       "      <td>0</td>\n",
       "      <td>0</td>\n",
       "      <td>0</td>\n",
       "      <td>342</td>\n",
       "      <td>0</td>\n",
       "      <td>2024-03-17 11:45:03</td>\n",
       "      <td>0.000</td>\n",
       "      <td>0.905</td>\n",
       "      <td>0.095</td>\n",
       "      <td>0.2500</td>\n",
       "    </tr>\n",
       "  </tbody>\n",
       "</table>\n",
       "</div>"
      ],
      "text/plain": [
       "                    id                                          tweetText  \\\n",
       "0  1769458624638619691  Mordecai I can't sell nft for 10 dollars, how ...   \n",
       "1  1769456825731346925  Here’s one recent example I found https://t.co...   \n",
       "2  1769454738704302260  Never miss your Apple Vision Pro wherever you ...   \n",
       "3  1769438420114317638  L'Apple Vision Pro n'est pas encore disponible...   \n",
       "4  1769434792159039744  مقارنة بين نظارتي Apple Vision Pro و Meta Ques...   \n",
       "\n",
       "                                            tweetURL   type  \\\n",
       "0  https://twitter.com/harndefty/status/176945862...  tweet   \n",
       "1  https://twitter.com/leighdunsford/status/17694...  tweet   \n",
       "2  https://twitter.com/Techlistics/status/1769454...  tweet   \n",
       "3  https://twitter.com/Deals_Store_Fr/status/1769...  tweet   \n",
       "4  https://twitter.com/aitnews/status/17694347921...  tweet   \n",
       "\n",
       "                               tweetAuthor           handle  replyCount  \\\n",
       "0                             Harndefty 🐔🍗       @harndefty           0   \n",
       "1                                    Leigh   @leighdunsford           0   \n",
       "2                              Techlistics     @Techlistics           0   \n",
       "3                           Deals_Store 🇫🇷  @Deals_Store_Fr           0   \n",
       "4  البوابة العربية للأخبار التقنية AITnews         @aitnews           0   \n",
       "\n",
       "   quoteCount  retweetCount  likeCount views  bookmarkCount  \\\n",
       "0           0             0          0    26              0   \n",
       "1           0             0          0     6              0   \n",
       "2           0             0          1    52              0   \n",
       "3           0             0          1   281              0   \n",
       "4           0             0          0   342              0   \n",
       "\n",
       "             createdAt    neg    neu    pos  compound  \n",
       "0  2024-03-17 13:19:45  0.000  1.000  0.000    0.0000  \n",
       "1  2024-03-17 13:12:36  0.000  1.000  0.000    0.0000  \n",
       "2  2024-03-17 13:04:19  0.000  0.906  0.094    0.6777  \n",
       "3  2024-03-17 11:59:28  0.037  0.796  0.167    0.6369  \n",
       "4  2024-03-17 11:45:03  0.000  0.905  0.095    0.2500  "
      ]
     },
     "execution_count": 18,
     "metadata": {},
     "output_type": "execute_result"
    }
   ],
   "source": [
    "# Function to get sentiment scores\n",
    "def get_sentiment_scores(text):\n",
    "    sentiment = analyzer.polarity_scores(text)\n",
    "    return sentiment\n",
    "\n",
    "# Apply sentiment analysis to each item in the dataset\n",
    "sentiment_scores = df['tweetText'].apply(get_sentiment_scores)\n",
    "\n",
    "# Convert sentiment_scores to DataFrame\n",
    "sentiment_df = pd.DataFrame(sentiment_scores.tolist())\n",
    "\n",
    "# Concatenate sentiment_df with the original DataFrame\n",
    "df_with_sentiment = pd.concat([df, sentiment_df], axis=1)\n",
    "\n",
    "# Checking DataFrame with sentiment scores\n",
    "df_with_sentiment.head()"
   ]
  },
  {
   "cell_type": "code",
   "execution_count": null,
   "id": "e3241043-dc58-4596-abf2-46925233b4ac",
   "metadata": {},
   "outputs": [],
   "source": []
  }
 ],
 "metadata": {
  "kernelspec": {
   "display_name": "Python 3 (ipykernel)",
   "language": "python",
   "name": "python3"
  },
  "language_info": {
   "codemirror_mode": {
    "name": "ipython",
    "version": 3
   },
   "file_extension": ".py",
   "mimetype": "text/x-python",
   "name": "python",
   "nbconvert_exporter": "python",
   "pygments_lexer": "ipython3",
   "version": "3.9.15"
  }
 },
 "nbformat": 4,
 "nbformat_minor": 5
}
