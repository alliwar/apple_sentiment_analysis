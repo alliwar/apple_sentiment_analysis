{
 "cells": [
  {
   "cell_type": "code",
   "execution_count": 1,
   "id": "9dd71b46-e9ce-4a67-abbc-15d7f6262105",
   "metadata": {},
   "outputs": [],
   "source": [
    "import pandas as pd\n",
    "import numpy as np\n",
    "import seaborn as sns\n",
    "import matplotlib as plt"
   ]
  },
  {
   "cell_type": "code",
   "execution_count": 2,
   "id": "6358e27d-f572-4913-b629-bfbd27196d3b",
   "metadata": {},
   "outputs": [],
   "source": [
    "# reading in csv\n",
    "df = pd.read_csv('data/judge-1377884607_tweet_product_company.csv', encoding='ISO-8859-1')"
   ]
  },
  {
   "cell_type": "code",
   "execution_count": 3,
   "id": "4f22ffd3-be67-41e6-b114-cc28ac82e4d0",
   "metadata": {},
   "outputs": [
    {
     "data": {
      "text/html": [
       "<div>\n",
       "<style scoped>\n",
       "    .dataframe tbody tr th:only-of-type {\n",
       "        vertical-align: middle;\n",
       "    }\n",
       "\n",
       "    .dataframe tbody tr th {\n",
       "        vertical-align: top;\n",
       "    }\n",
       "\n",
       "    .dataframe thead th {\n",
       "        text-align: right;\n",
       "    }\n",
       "</style>\n",
       "<table border=\"1\" class=\"dataframe\">\n",
       "  <thead>\n",
       "    <tr style=\"text-align: right;\">\n",
       "      <th></th>\n",
       "      <th>tweet_text</th>\n",
       "      <th>emotion_in_tweet_is_directed_at</th>\n",
       "      <th>is_there_an_emotion_directed_at_a_brand_or_product</th>\n",
       "    </tr>\n",
       "  </thead>\n",
       "  <tbody>\n",
       "    <tr>\n",
       "      <th>0</th>\n",
       "      <td>.@wesley83 I have a 3G iPhone. After 3 hrs twe...</td>\n",
       "      <td>iPhone</td>\n",
       "      <td>Negative emotion</td>\n",
       "    </tr>\n",
       "    <tr>\n",
       "      <th>1</th>\n",
       "      <td>@jessedee Know about @fludapp ? Awesome iPad/i...</td>\n",
       "      <td>iPad or iPhone App</td>\n",
       "      <td>Positive emotion</td>\n",
       "    </tr>\n",
       "    <tr>\n",
       "      <th>2</th>\n",
       "      <td>@swonderlin Can not wait for #iPad 2 also. The...</td>\n",
       "      <td>iPad</td>\n",
       "      <td>Positive emotion</td>\n",
       "    </tr>\n",
       "    <tr>\n",
       "      <th>3</th>\n",
       "      <td>@sxsw I hope this year's festival isn't as cra...</td>\n",
       "      <td>iPad or iPhone App</td>\n",
       "      <td>Negative emotion</td>\n",
       "    </tr>\n",
       "    <tr>\n",
       "      <th>4</th>\n",
       "      <td>@sxtxstate great stuff on Fri #SXSW: Marissa M...</td>\n",
       "      <td>Google</td>\n",
       "      <td>Positive emotion</td>\n",
       "    </tr>\n",
       "    <tr>\n",
       "      <th>5</th>\n",
       "      <td>@teachntech00 New iPad Apps For #SpeechTherapy...</td>\n",
       "      <td>NaN</td>\n",
       "      <td>No emotion toward brand or product</td>\n",
       "    </tr>\n",
       "    <tr>\n",
       "      <th>6</th>\n",
       "      <td>NaN</td>\n",
       "      <td>NaN</td>\n",
       "      <td>No emotion toward brand or product</td>\n",
       "    </tr>\n",
       "    <tr>\n",
       "      <th>7</th>\n",
       "      <td>#SXSW is just starting, #CTIA is around the co...</td>\n",
       "      <td>Android</td>\n",
       "      <td>Positive emotion</td>\n",
       "    </tr>\n",
       "    <tr>\n",
       "      <th>8</th>\n",
       "      <td>Beautifully smart and simple idea RT @madebyma...</td>\n",
       "      <td>iPad or iPhone App</td>\n",
       "      <td>Positive emotion</td>\n",
       "    </tr>\n",
       "    <tr>\n",
       "      <th>9</th>\n",
       "      <td>Counting down the days to #sxsw plus strong Ca...</td>\n",
       "      <td>Apple</td>\n",
       "      <td>Positive emotion</td>\n",
       "    </tr>\n",
       "  </tbody>\n",
       "</table>\n",
       "</div>"
      ],
      "text/plain": [
       "                                          tweet_text  \\\n",
       "0  .@wesley83 I have a 3G iPhone. After 3 hrs twe...   \n",
       "1  @jessedee Know about @fludapp ? Awesome iPad/i...   \n",
       "2  @swonderlin Can not wait for #iPad 2 also. The...   \n",
       "3  @sxsw I hope this year's festival isn't as cra...   \n",
       "4  @sxtxstate great stuff on Fri #SXSW: Marissa M...   \n",
       "5  @teachntech00 New iPad Apps For #SpeechTherapy...   \n",
       "6                                                NaN   \n",
       "7  #SXSW is just starting, #CTIA is around the co...   \n",
       "8  Beautifully smart and simple idea RT @madebyma...   \n",
       "9  Counting down the days to #sxsw plus strong Ca...   \n",
       "\n",
       "  emotion_in_tweet_is_directed_at  \\\n",
       "0                          iPhone   \n",
       "1              iPad or iPhone App   \n",
       "2                            iPad   \n",
       "3              iPad or iPhone App   \n",
       "4                          Google   \n",
       "5                             NaN   \n",
       "6                             NaN   \n",
       "7                         Android   \n",
       "8              iPad or iPhone App   \n",
       "9                           Apple   \n",
       "\n",
       "  is_there_an_emotion_directed_at_a_brand_or_product  \n",
       "0                                   Negative emotion  \n",
       "1                                   Positive emotion  \n",
       "2                                   Positive emotion  \n",
       "3                                   Negative emotion  \n",
       "4                                   Positive emotion  \n",
       "5                 No emotion toward brand or product  \n",
       "6                 No emotion toward brand or product  \n",
       "7                                   Positive emotion  \n",
       "8                                   Positive emotion  \n",
       "9                                   Positive emotion  "
      ]
     },
     "execution_count": 3,
     "metadata": {},
     "output_type": "execute_result"
    }
   ],
   "source": [
    "df.head(10)"
   ]
  },
  {
   "cell_type": "code",
   "execution_count": null,
   "id": "b8d776d0-a569-4fc6-9962-dfadfeadf1e7",
   "metadata": {},
   "outputs": [],
   "source": []
  },
  {
   "cell_type": "code",
   "execution_count": 4,
   "id": "446e6d45-f01a-4c12-bc8f-4fda978ad86e",
   "metadata": {},
   "outputs": [
    {
     "data": {
      "text/plain": [
       "tweet_text                                            Beautifully smart and simple idea RT @madebyma...\n",
       "emotion_in_tweet_is_directed_at                                                      iPad or iPhone App\n",
       "is_there_an_emotion_directed_at_a_brand_or_product                                     Positive emotion\n",
       "Name: 8, dtype: object"
      ]
     },
     "execution_count": 4,
     "metadata": {},
     "output_type": "execute_result"
    }
   ],
   "source": [
    "df.iloc[8]"
   ]
  },
  {
   "cell_type": "code",
   "execution_count": 5,
   "id": "1ac556f0-4556-4316-9609-d11791613771",
   "metadata": {},
   "outputs": [
    {
     "name": "stdout",
     "output_type": "stream",
     "text": [
      "<class 'pandas.core.frame.DataFrame'>\n",
      "RangeIndex: 9093 entries, 0 to 9092\n",
      "Data columns (total 3 columns):\n",
      " #   Column                                              Non-Null Count  Dtype \n",
      "---  ------                                              --------------  ----- \n",
      " 0   tweet_text                                          9092 non-null   object\n",
      " 1   emotion_in_tweet_is_directed_at                     3291 non-null   object\n",
      " 2   is_there_an_emotion_directed_at_a_brand_or_product  9093 non-null   object\n",
      "dtypes: object(3)\n",
      "memory usage: 213.2+ KB\n"
     ]
    }
   ],
   "source": [
    "df.info()"
   ]
  },
  {
   "cell_type": "code",
   "execution_count": 6,
   "id": "c6d7c724-39a4-4fd1-9da1-ce77289bd6b1",
   "metadata": {},
   "outputs": [
    {
     "data": {
      "text/plain": [
       "tweet_text                                               1\n",
       "emotion_in_tweet_is_directed_at                       5802\n",
       "is_there_an_emotion_directed_at_a_brand_or_product       0\n",
       "dtype: int64"
      ]
     },
     "execution_count": 6,
     "metadata": {},
     "output_type": "execute_result"
    }
   ],
   "source": [
    "# looking at total missing per column\n",
    "df.isnull().sum()"
   ]
  },
  {
   "cell_type": "code",
   "execution_count": 7,
   "id": "bb1a7ce7-2862-419a-8183-3a0962e707f5",
   "metadata": {},
   "outputs": [
    {
     "data": {
      "text/plain": [
       "is_there_an_emotion_directed_at_a_brand_or_product\n",
       "No emotion toward brand or product    5389\n",
       "Positive emotion                      2978\n",
       "Negative emotion                       570\n",
       "I can't tell                           156\n",
       "Name: count, dtype: int64"
      ]
     },
     "execution_count": 7,
     "metadata": {},
     "output_type": "execute_result"
    }
   ],
   "source": [
    "df['is_there_an_emotion_directed_at_a_brand_or_product'].value_counts()"
   ]
  },
  {
   "cell_type": "code",
   "execution_count": 8,
   "id": "8265fc66-cc43-499b-95ee-b1575db82cea",
   "metadata": {},
   "outputs": [
    {
     "data": {
      "text/plain": [
       "emotion_in_tweet_is_directed_at\n",
       "iPad                               946\n",
       "Apple                              661\n",
       "iPad or iPhone App                 470\n",
       "Google                             430\n",
       "iPhone                             297\n",
       "Other Google product or service    293\n",
       "Android App                         81\n",
       "Android                             78\n",
       "Other Apple product or service      35\n",
       "Name: count, dtype: int64"
      ]
     },
     "execution_count": 8,
     "metadata": {},
     "output_type": "execute_result"
    }
   ],
   "source": [
    "df['emotion_in_tweet_is_directed_at'].value_counts()"
   ]
  },
  {
   "cell_type": "code",
   "execution_count": 9,
   "id": "68de4208-b486-4543-b89d-9d993d97fea1",
   "metadata": {},
   "outputs": [
    {
     "data": {
      "image/png": "[encoded data removed]",
      "text/plain": [
       "<Figure size 640x480 with 1 Axes>"
      ]
     },
     "metadata": {},
     "output_type": "display_data"
    }
   ],
   "source": [
    "# Count occurrences of each unique value in 'emotion_in_tweet_is_directed_at'\n",
    "x = df['emotion_in_tweet_is_directed_at'].value_counts()\n",
    "\n",
    "# Extract unique values of 'emotion_in_tweet_is_directed_at' for y-axis labels\n",
    "y = x.index\n",
    "\n",
    "# Create bar plot\n",
    "sns.barplot(x=x, y=y);"
   ]
  },
  {
   "cell_type": "code",
   "execution_count": 10,
   "id": "8afc8a9c-80b2-408f-963b-e6faa6ec14e9",
   "metadata": {},
   "outputs": [
    {
     "name": "stdout",
     "output_type": "stream",
     "text": [
      "Positive ipad tweets: 793\n",
      "Negative ipad tweets: 125\n"
     ]
    }
   ],
   "source": [
    "# comparing positive and negative reviews of the iPad\n",
    "positive_ipad = df.loc[(df['emotion_in_tweet_is_directed_at'] == 'iPad') & (df['is_there_an_emotion_directed_at_a_brand_or_product'] == 'Positive emotion')]\n",
    "print(f'Positive ipad tweets: {positive_ipad[\"tweet_text\"].count()}')\n",
    "\n",
    "negative_ipad = df.loc[(df['emotion_in_tweet_is_directed_at'] == 'iPad') & (df['is_there_an_emotion_directed_at_a_brand_or_product'] == 'Negative emotion')]\n",
    "print(f'Negative ipad tweets: {negative_ipad[\"tweet_text\"].count()}')"
   ]
  },
  {
   "cell_type": "code",
   "execution_count": 11,
   "id": "d88d8fc5-e747-448d-a7cf-d6c448c38796",
   "metadata": {},
   "outputs": [
    {
     "name": "stdout",
     "output_type": "stream",
     "text": [
      "Positive apple tweets: 543\n",
      "Negative apple tweets: 95\n"
     ]
    }
   ],
   "source": [
    "# comparing positive and negative reviews of Apple in general\n",
    "positive_apple = df.loc[(df['emotion_in_tweet_is_directed_at'] == 'Apple') & (df['is_there_an_emotion_directed_at_a_brand_or_product'] == 'Positive emotion')]\n",
    "print(f'Positive apple tweets: {positive_apple[\"tweet_text\"].count()}')\n",
    "\n",
    "negative_apple = df.loc[(df['emotion_in_tweet_is_directed_at'] == 'Apple') & (df['is_there_an_emotion_directed_at_a_brand_or_product'] == 'Negative emotion')]\n",
    "print(f'Negative apple tweets: {negative_apple[\"tweet_text\"].count()}')"
   ]
  },
  {
   "cell_type": "code",
   "execution_count": 12,
   "id": "e0cbe07f-4ead-489e-9d91-1860a0c65f94",
   "metadata": {},
   "outputs": [
    {
     "name": "stdout",
     "output_type": "stream",
     "text": [
      "Positive apple app tweets: 397\n",
      "Negative apple app tweets: 63\n"
     ]
    }
   ],
   "source": [
    "# comparing positive and negative reviews of Apple apps in general\n",
    "positive_apple_app = df.loc[(df['emotion_in_tweet_is_directed_at'] == 'iPad or iPhone App') & (df['is_there_an_emotion_directed_at_a_brand_or_product'] == 'Positive emotion')]\n",
    "print(f'Positive apple app tweets: {positive_apple_app[\"tweet_text\"].count()}')\n",
    "\n",
    "negative_apple_app = df.loc[(df['emotion_in_tweet_is_directed_at'] == 'iPad or iPhone App') & (df['is_there_an_emotion_directed_at_a_brand_or_product'] == 'Negative emotion')]\n",
    "print(f'Negative apple app tweets: {negative_apple_app[\"tweet_text\"].count()}')"
   ]
  },
  {
   "cell_type": "code",
   "execution_count": 13,
   "id": "b2765182-507a-4005-ae5f-aac4a6d8a774",
   "metadata": {},
   "outputs": [
    {
     "name": "stdout",
     "output_type": "stream",
     "text": [
      "Positive google tweets: 346\n",
      "Negative google tweets: 68\n"
     ]
    }
   ],
   "source": [
    "# comparing positive and negative reviews of Google products\n",
    "positive_google = df.loc[(df['emotion_in_tweet_is_directed_at'] == 'Google') & (df['is_there_an_emotion_directed_at_a_brand_or_product'] == 'Positive emotion')]\n",
    "print(f'Positive google tweets: {positive_google[\"tweet_text\"].count()}')\n",
    "\n",
    "negative_google = df.loc[(df['emotion_in_tweet_is_directed_at'] == 'Google') & (df['is_there_an_emotion_directed_at_a_brand_or_product'] == 'Negative emotion')]\n",
    "print(f'Negative google tweets: {negative_google[\"tweet_text\"].count()}')"
   ]
  },
  {
   "cell_type": "code",
   "execution_count": 14,
   "id": "206bf262-45e3-454f-949e-47c01e0629e4",
   "metadata": {},
   "outputs": [
    {
     "name": "stdout",
     "output_type": "stream",
     "text": [
      "Positive iphone tweets: 184\n",
      "Negative iphone tweets: 103\n"
     ]
    }
   ],
   "source": [
    "# comparing positive and negative reviews of the iPhone .... this one is almost equally positive and negative\n",
    "positive_iphone = df.loc[(df['emotion_in_tweet_is_directed_at'] == 'iPhone') & (df['is_there_an_emotion_directed_at_a_brand_or_product'] == 'Positive emotion')]\n",
    "print(f'Positive iphone tweets: {positive_iphone[\"tweet_text\"].count()}')\n",
    "\n",
    "negative_iphone = df.loc[(df['emotion_in_tweet_is_directed_at'] == 'iPhone') & (df['is_there_an_emotion_directed_at_a_brand_or_product'] == 'Negative emotion')]\n",
    "print(f'Negative iphone tweets: {negative_iphone[\"tweet_text\"].count()}')"
   ]
  },
  {
   "cell_type": "code",
   "execution_count": 15,
   "id": "63666cae-6e28-4e7f-83dd-48273b8ebc4d",
   "metadata": {},
   "outputs": [
    {
     "name": "stdout",
     "output_type": "stream",
     "text": [
      "Positive android tweets: 69\n",
      "Negative android tweets: 8\n"
     ]
    }
   ],
   "source": [
    "# comparing positive and negative reviews of Androids\n",
    "positive_android = df.loc[(df['emotion_in_tweet_is_directed_at'] == 'Android') & (df['is_there_an_emotion_directed_at_a_brand_or_product'] == 'Positive emotion')]\n",
    "print(f'Positive android tweets: {positive_android[\"tweet_text\"].count()}')\n",
    "\n",
    "negative_android = df.loc[(df['emotion_in_tweet_is_directed_at'] == 'Android') & (df['is_there_an_emotion_directed_at_a_brand_or_product'] == 'Negative emotion')]\n",
    "print(f'Negative android tweets: {negative_android[\"tweet_text\"].count()}')"
   ]
  },
  {
   "cell_type": "code",
   "execution_count": null,
   "id": "fdb4764d-9f59-4242-a7c0-910e4523383c",
   "metadata": {},
   "outputs": [],
   "source": []
  },
  {
   "cell_type": "markdown",
   "id": "1a3167d2-5f9c-44ab-bfe2-127b7aa2b974",
   "metadata": {},
   "source": [
    "# Looking at double quotes (from Rick)"
   ]
  },
  {
   "cell_type": "code",
   "execution_count": 16,
   "id": "7da9ed48-b8de-48e1-8fb7-bce2855a6977",
   "metadata": {
    "scrolled": true
   },
   "outputs": [
    {
     "name": "stderr",
     "output_type": "stream",
     "text": [
      "/var/folders/r7/dkcrrdg1099bt6wjv8tr4trc0000gn/T/ipykernel_14434/3068279230.py:7: UserWarning: This pattern is interpreted as a regular expression, and has match groups. To actually get the groups, use str.extract.\n",
      "  df['occurs'] = df['tweet_text'].str.contains(re_single_quotes)\n"
     ]
    },
    {
     "data": {
      "text/html": [
       "<table border=\"1\" class=\"dataframe\">\n",
       "  <thead>\n",
       "    <tr style=\"text-align: right;\">\n",
       "      <th>tweet_text</th>\n",
       "      <th>emotion_in_tweet_is_directed_at</th>\n",
       "      <th>is_there_an_emotion_directed_at_a_brand_or_product</th>\n",
       "      <th>occurs</th>\n",
       "    </tr>\n",
       "  </thead>\n",
       "  <tbody>\n",
       "    <tr>\n",
       "      <td>&amp;quot;via @mention : {link} Guy Kawasaki talks 'Enchanted' at SXSW - HE knows his stuff! #books #internet #Apple #sxsw  &amp;quot;</td>\n",
       "      <td>NaN</td>\n",
       "      <td>No emotion toward brand or product</td>\n",
       "      <td>True</td>\n",
       "    </tr>\n",
       "    <tr>\n",
       "      <td>Do I need any more for #sxsw! ipad, iphone, laptop, dictaphone, vid.camera.... Wow! Love to  meet the REAL 'cerebellum' charged people:)</td>\n",
       "      <td>iPhone</td>\n",
       "      <td>Positive emotion</td>\n",
       "      <td>True</td>\n",
       "    </tr>\n",
       "    <tr>\n",
       "      <td>ÛÏ@mention Apple is a great example of a retail store layed out for the future - no 'registers' no 'checkout line'  #sxsw</td>\n",
       "      <td>Apple</td>\n",
       "      <td>Positive emotion</td>\n",
       "      <td>True</td>\n",
       "    </tr>\n",
       "    <tr>\n",
       "      <td>&amp;quot;the future of local is contextual discovery.&amp;quot; Google's Marissa Mayer argues 'where' is exceptionally valuable for any type of search. #SXSW</td>\n",
       "      <td>NaN</td>\n",
       "      <td>No emotion toward brand or product</td>\n",
       "      <td>True</td>\n",
       "    </tr>\n",
       "    <tr>\n",
       "      <td>Wishing I was at #sxsw to see the rumored demo of @mention new social network 'Circles' {link} (via @mention</td>\n",
       "      <td>Other Google product or service</td>\n",
       "      <td>Positive emotion</td>\n",
       "      <td>True</td>\n",
       "    </tr>\n",
       "    <tr>\n",
       "      <td>OH: &amp;quot;While we're here we should check out this new iPad 2 'thing'.&amp;quot; #SXSW #strangeproblems</td>\n",
       "      <td>iPad</td>\n",
       "      <td>Positive emotion</td>\n",
       "      <td>True</td>\n",
       "    </tr>\n",
       "    <tr>\n",
       "      <td>@mention 'GoodGuide' iphone app scans barcode to rank environmental responsibility of the company-nice pressure!#smmnextgen #sxsw</td>\n",
       "      <td>iPad or iPhone App</td>\n",
       "      <td>Positive emotion</td>\n",
       "      <td>True</td>\n",
       "    </tr>\n",
       "    <tr>\n",
       "      <td>Is there any way of deleting an app that won't stop loading on the iPhone? Draining my power, but no 'x' to cancel. Help me, #SXSW.</td>\n",
       "      <td>iPad or iPhone App</td>\n",
       "      <td>Negative emotion</td>\n",
       "      <td>True</td>\n",
       "    </tr>\n",
       "    <tr>\n",
       "      <td>Great location choice, and nice timing for iPad2 launch: #Apple, #HP 'popping' in for #SXSW {link}</td>\n",
       "      <td>iPad</td>\n",
       "      <td>Positive emotion</td>\n",
       "      <td>True</td>\n",
       "    </tr>\n",
       "    <tr>\n",
       "      <td>AOL, T-Mobile Launch 'Play' Android App {link} via @mention #sxsw</td>\n",
       "      <td>NaN</td>\n",
       "      <td>No emotion toward brand or product</td>\n",
       "      <td>True</td>\n",
       "    </tr>\n",
       "    <tr>\n",
       "      <td>Clear +succinct visions make for great UX (think Apple, Google, Intuit)-we've seemed to forget the 'heart' of caring/purpose #sxsw #rhjr_ux5</td>\n",
       "      <td>NaN</td>\n",
       "      <td>No emotion toward brand or product</td>\n",
       "      <td>True</td>\n",
       "    </tr>\n",
       "    <tr>\n",
       "      <td>Just saved the #sxsw 'I'm so productive I don't get anything done' with my iPad dongle. Get get'm #sxswbusy</td>\n",
       "      <td>NaN</td>\n",
       "      <td>No emotion toward brand or product</td>\n",
       "      <td>True</td>\n",
       "    </tr>\n",
       "    <tr>\n",
       "      <td>Dudes! Dudes! Check it out: Tweet anything w/ 'iPad' in it &amp;amp; naked lady response bots will tell you how they 'simply gaimed one free' #sxsw</td>\n",
       "      <td>NaN</td>\n",
       "      <td>No emotion toward brand or product</td>\n",
       "      <td>True</td>\n",
       "    </tr>\n",
       "    <tr>\n",
       "      <td>Watch Someone 'Hack' Times Square TV Screens with an iPhone (via @mention {link} #SXSW #tech #amazing #winning</td>\n",
       "      <td>NaN</td>\n",
       "      <td>No emotion toward brand or product</td>\n",
       "      <td>True</td>\n",
       "    </tr>\n",
       "    <tr>\n",
       "      <td>#iPad 2 reviews from #SXSW seem to range from 'wait until 2012/3/4/5/' and 'I-just-shat-my-fan-boy-knickers'.</td>\n",
       "      <td>iPad</td>\n",
       "      <td>Positive emotion</td>\n",
       "      <td>True</td>\n",
       "    </tr>\n",
       "    <tr>\n",
       "      <td>won't call myself 'major' yet :p RT @mention Google to Launch Major New Social Network Called Circles {link} #sxsw</td>\n",
       "      <td>NaN</td>\n",
       "      <td>No emotion toward brand or product</td>\n",
       "      <td>True</td>\n",
       "    </tr>\n",
       "    <tr>\n",
       "      <td>Will Google launch a new social network called 'Circles' at South by Southwest today?  {link}  #SXSW #Circles #Google</td>\n",
       "      <td>NaN</td>\n",
       "      <td>No emotion toward brand or product</td>\n",
       "      <td>True</td>\n",
       "    </tr>\n",
       "    <tr>\n",
       "      <td>Strong rumours abt Google unveiling a new social network called 'Circles' at  #sxsw  Does look interesting: {link}</td>\n",
       "      <td>Google</td>\n",
       "      <td>Positive emotion</td>\n",
       "      <td>True</td>\n",
       "    </tr>\n",
       "    <tr>\n",
       "      <td>I'm listening to 'Congo' by Os Ipanemas via the Discovr app on my iPhone {link} Live from #sxsw</td>\n",
       "      <td>NaN</td>\n",
       "      <td>No emotion toward brand or product</td>\n",
       "      <td>True</td>\n",
       "    </tr>\n",
       "    <tr>\n",
       "      <td>@mention not my choice, believe me! Wore out three Apple 'Genius's' in the process. All better now and on the ground at #sxsw</td>\n",
       "      <td>NaN</td>\n",
       "      <td>No emotion toward brand or product</td>\n",
       "      <td>True</td>\n",
       "    </tr>\n",
       "    <tr>\n",
       "      <td>Heading to Austin? check out EVR's #sxsw preview show: {link} Also available under 'shows' via #evrmobile for iPhone &amp;amp; Android</td>\n",
       "      <td>NaN</td>\n",
       "      <td>No emotion toward brand or product</td>\n",
       "      <td>True</td>\n",
       "    </tr>\n",
       "    <tr>\n",
       "      <td>Yikes. Google is launching 'Circles' today at #sxsw? {link}</td>\n",
       "      <td>NaN</td>\n",
       "      <td>I can't tell</td>\n",
       "      <td>True</td>\n",
       "    </tr>\n",
       "    <tr>\n",
       "      <td>RT @mention ÛÏ@mention Apple is a great example of a retail store layed out for the future - no 'registers' no 'checkout line'  #sxsw</td>\n",
       "      <td>Apple</td>\n",
       "      <td>Positive emotion</td>\n",
       "      <td>True</td>\n",
       "    </tr>\n",
       "    <tr>\n",
       "      <td>RT @mention ÛÏ@mention Google to Launch Major New Social Network Called Circles, Possibly Today {link} #sxswÛ Circles are 'closed' #weak</td>\n",
       "      <td>NaN</td>\n",
       "      <td>No emotion toward brand or product</td>\n",
       "      <td>True</td>\n",
       "    </tr>\n",
       "    <tr>\n",
       "      <td>RT @mention {link} &amp;lt;- 'Google Circles' Looms, But do Google's Nerds 'Get' Social, via @mention #SXSW #socialmedia</td>\n",
       "      <td>NaN</td>\n",
       "      <td>No emotion toward brand or product</td>\n",
       "      <td>True</td>\n",
       "    </tr>\n",
       "    <tr>\n",
       "      <td>RT @mention &amp;quot;the future of local is contextual discovery.&amp;quot; Google's Marissa Mayer argues 'where' is exceptionally valuable for any type of search. #SXSW</td>\n",
       "      <td>Google</td>\n",
       "      <td>Positive emotion</td>\n",
       "      <td>True</td>\n",
       "    </tr>\n",
       "    <tr>\n",
       "      <td>RT @mention &amp;quot;the future of local is contextual discovery&amp;quot; Google's Mayer argues 'where' is exceptionally valuable for any search #SXSW</td>\n",
       "      <td>NaN</td>\n",
       "      <td>No emotion toward brand or product</td>\n",
       "      <td>True</td>\n",
       "    </tr>\n",
       "    <tr>\n",
       "      <td>RT @mention #Google could launch a 'major' new social network called Circles, possibly today: {link} #SXSW Remake of Wave?</td>\n",
       "      <td>NaN</td>\n",
       "      <td>No emotion toward brand or product</td>\n",
       "      <td>True</td>\n",
       "    </tr>\n",
       "    <tr>\n",
       "      <td>RT @mention Dudes! Dudes! Check it out: Tweet anything w/ 'iPad' in it &amp;amp; naked lady response bots will tell you how they 'simply gaimed one free' #sxsw</td>\n",
       "      <td>NaN</td>\n",
       "      <td>No emotion toward brand or product</td>\n",
       "      <td>True</td>\n",
       "    </tr>\n",
       "    <tr>\n",
       "      <td>RT @mention Google Launches Geo-Social 'Offers' at #SXSW {link} #DeferoMobile</td>\n",
       "      <td>NaN</td>\n",
       "      <td>No emotion toward brand or product</td>\n",
       "      <td>True</td>\n",
       "    </tr>\n",
       "    <tr>\n",
       "      <td>RT @mention Hot Pot from Google for mobile maps is a 'very' interesting new app. #sxsw #sxswi</td>\n",
       "      <td>Android App</td>\n",
       "      <td>Positive emotion</td>\n",
       "      <td>True</td>\n",
       "    </tr>\n",
       "    <tr>\n",
       "      <td>RT @mention Strong rumours abt Google unveiling a new social network called 'Circles' at  #sxsw  Does look interesting: {link}</td>\n",
       "      <td>Other Google product or service</td>\n",
       "      <td>Positive emotion</td>\n",
       "      <td>True</td>\n",
       "    </tr>\n",
       "    <tr>\n",
       "      <td>RT @mention Will Google launch a new social network called 'Circles' at South by Southwest today?  {link}  #SXSW #Circles #Google</td>\n",
       "      <td>NaN</td>\n",
       "      <td>No emotion toward brand or product</td>\n",
       "      <td>True</td>\n",
       "    </tr>\n",
       "    <tr>\n",
       "      <td>RT @mention Yikes. Google is launching 'Circles' today at #sxsw? {link}</td>\n",
       "      <td>NaN</td>\n",
       "      <td>No emotion toward brand or product</td>\n",
       "      <td>True</td>\n",
       "    </tr>\n",
       "    <tr>\n",
       "      <td>&amp;quot;No one says 'I'm Apple' or 'I'm Drupal' - in my tribe I know people will care for my children &amp;amp; that is powerful&amp;quot; @mention #DgtlTribe #SXSW</td>\n",
       "      <td>NaN</td>\n",
       "      <td>No emotion toward brand or product</td>\n",
       "      <td>True</td>\n",
       "    </tr>\n",
       "    <tr>\n",
       "      <td>{link} #Google to launch major new social network called 'Circles'! #Social Networking back to basics. #SXSW</td>\n",
       "      <td>NaN</td>\n",
       "      <td>No emotion toward brand or product</td>\n",
       "      <td>True</td>\n",
       "    </tr>\n",
       "    <tr>\n",
       "      <td>#Google could launch a 'major' new social network called Circles, possibly today: {link} #SXSW Remake of Wave?</td>\n",
       "      <td>NaN</td>\n",
       "      <td>No emotion toward brand or product</td>\n",
       "      <td>True</td>\n",
       "    </tr>\n",
       "    <tr>\n",
       "      <td>#SXSW: Apple doing 'i' business at key music event {link} (via @mention</td>\n",
       "      <td>NaN</td>\n",
       "      <td>No emotion toward brand or product</td>\n",
       "      <td>True</td>\n",
       "    </tr>\n",
       "    <tr>\n",
       "      <td>Google Circles could potentially be unveiled today at #SXSW. Could Google get 'social' right this time? Your opinion? {link}</td>\n",
       "      <td>NaN</td>\n",
       "      <td>No emotion toward brand or product</td>\n",
       "      <td>True</td>\n",
       "    </tr>\n",
       "    <tr>\n",
       "      <td>Google Circles will be 'Boolean' (?) #sxsw @mention</td>\n",
       "      <td>NaN</td>\n",
       "      <td>No emotion toward brand or product</td>\n",
       "      <td>True</td>\n",
       "    </tr>\n",
       "    <tr>\n",
       "      <td>Google Circles' Looms, But do Google's Nerds 'Get' Social? {link} #socialmedia #sxsw</td>\n",
       "      <td>Other Google product or service</td>\n",
       "      <td>No emotion toward brand or product</td>\n",
       "      <td>True</td>\n",
       "    </tr>\n",
       "    <tr>\n",
       "      <td>Google Circles' Looms, But do Google's Nerds 'Get' Social? #SxSW | @mention {link}</td>\n",
       "      <td>Other Google product or service</td>\n",
       "      <td>No emotion toward brand or product</td>\n",
       "      <td>True</td>\n",
       "    </tr>\n",
       "    <tr>\n",
       "      <td>Google Circles' Looms, But Do Google's Nerds 'Get' Social? #SxSW | @mention {link}</td>\n",
       "      <td>NaN</td>\n",
       "      <td>No emotion toward brand or product</td>\n",
       "      <td>True</td>\n",
       "    </tr>\n",
       "    <tr>\n",
       "      <td>Google Circles' Looms, But do Google's Nerds 'Get' Social? #SxSW | @mention {link} via @mention</td>\n",
       "      <td>NaN</td>\n",
       "      <td>No emotion toward brand or product</td>\n",
       "      <td>True</td>\n",
       "    </tr>\n",
       "    <tr>\n",
       "      <td>Google Circles' Looms, But Do Google's Nerds 'Get' Social? #SxSW | @mention {link} via @mention</td>\n",
       "      <td>NaN</td>\n",
       "      <td>No emotion toward brand or product</td>\n",
       "      <td>True</td>\n",
       "    </tr>\n",
       "    <tr>\n",
       "      <td>Hot Pot from Google for mobile maps is a 'very' interesting new app. #sxsw #sxswi</td>\n",
       "      <td>Other Google product or service</td>\n",
       "      <td>Positive emotion</td>\n",
       "      <td>True</td>\n",
       "    </tr>\n",
       "    <tr>\n",
       "      <td>No iPad users getting 3g data. I'm going to download a 'world's smallest violin' app over the working 4G. #sxsw</td>\n",
       "      <td>NaN</td>\n",
       "      <td>No emotion toward brand or product</td>\n",
       "      <td>True</td>\n",
       "    </tr>\n",
       "    <tr>\n",
       "      <td>{link} &amp;lt;- 'Google Circles' Looms, But do Google's Nerds 'Get' Social, via @mention #SXSW #socialmedia</td>\n",
       "      <td>NaN</td>\n",
       "      <td>No emotion toward brand or product</td>\n",
       "      <td>True</td>\n",
       "    </tr>\n",
       "    <tr>\n",
       "      <td>@mention to launch 'Circles' later today at #SXSW?? gotta love #SXSW - one platform for everything from Independent film to Innovative Tech</td>\n",
       "      <td>NaN</td>\n",
       "      <td>No emotion toward brand or product</td>\n",
       "      <td>True</td>\n",
       "    </tr>\n",
       "    <tr>\n",
       "      <td>{link} Guy Kawasaki talks 'Enchanted' at SXSW - HE knows his stuff! #books #internet #Apple #sxsw</td>\n",
       "      <td>NaN</td>\n",
       "      <td>No emotion toward brand or product</td>\n",
       "      <td>True</td>\n",
       "    </tr>\n",
       "  </tbody>\n",
       "</table>"
      ],
      "text/plain": [
       "<IPython.core.display.HTML object>"
      ]
     },
     "metadata": {},
     "output_type": "display_data"
    }
   ],
   "source": [
    "from IPython.display import display, HTML\n",
    "\n",
    "df = pd.read_csv('data/judge-1377884607_tweet_product_company.csv', encoding='ISO-8859-1')\n",
    "\n",
    "re_single_quotes = r\"'([a-zA-Z]+(?:[-'][a-zA-Z]+)*)'\"\n",
    "\n",
    "df['occurs'] = df['tweet_text'].str.contains(re_single_quotes)\n",
    "df_filtered = df.loc[df['occurs']==True]\n",
    "\n",
    "pd.set_option('display.max_colwidth', 300)\n",
    "pd.set_option('display.width', 300)\n",
    "display(HTML(df_filtered.to_html(index=False)))"
   ]
  },
  {
   "cell_type": "markdown",
   "id": "b36ba0dd-0b71-4c7d-8b7b-46ca8466f0e8",
   "metadata": {},
   "source": [
    "# Looking at Emojis"
   ]
  },
  {
   "cell_type": "code",
   "execution_count": 17,
   "id": "99706be5-6ff3-4fcc-86d4-6c29a977984a",
   "metadata": {},
   "outputs": [
    {
     "name": "stdout",
     "output_type": "stream",
     "text": [
      "Requirement already satisfied: emoji in /Users/Alli/anaconda3/envs/learn-env/lib/python3.9/site-packages (2.11.1)\n"
     ]
    }
   ],
   "source": [
    "! python -m pip install emoji --upgrade"
   ]
  },
  {
   "cell_type": "code",
   "execution_count": 18,
   "id": "c2e3e743-4f6e-4fac-8916-1f8fdae12d4a",
   "metadata": {},
   "outputs": [],
   "source": [
    "# Fill NaN values with an empty string\n",
    "df['tweet_text'] = df['tweet_text'].fillna('')"
   ]
  },
  {
   "cell_type": "code",
   "execution_count": 19,
   "id": "b6bedd02-df51-4724-83e0-c5032e46697c",
   "metadata": {},
   "outputs": [
    {
     "data": {
      "text/html": [
       "<div>\n",
       "<style scoped>\n",
       "    .dataframe tbody tr th:only-of-type {\n",
       "        vertical-align: middle;\n",
       "    }\n",
       "\n",
       "    .dataframe tbody tr th {\n",
       "        vertical-align: top;\n",
       "    }\n",
       "\n",
       "    .dataframe thead th {\n",
       "        text-align: right;\n",
       "    }\n",
       "</style>\n",
       "<table border=\"1\" class=\"dataframe\">\n",
       "  <thead>\n",
       "    <tr style=\"text-align: right;\">\n",
       "      <th></th>\n",
       "      <th>tweet_text</th>\n",
       "      <th>emotion_in_tweet_is_directed_at</th>\n",
       "      <th>is_there_an_emotion_directed_at_a_brand_or_product</th>\n",
       "      <th>occurs</th>\n",
       "    </tr>\n",
       "  </thead>\n",
       "  <tbody>\n",
       "    <tr>\n",
       "      <th>260</th>\n",
       "      <td>Our #sxsw app is now on #android :D huge props to @mention @mention @mention &amp;amp; @mention Get it now: {link}</td>\n",
       "      <td>NaN</td>\n",
       "      <td>No emotion toward brand or product</td>\n",
       "      <td>False</td>\n",
       "    </tr>\n",
       "    <tr>\n",
       "      <th>2621</th>\n",
       "      <td>Which line at #SXSW will be longer? 3/11 at the temp Apple store for the iPad2? Or 3/14 at the Microsoft booth for IE9? [Yeah, right!] :D</td>\n",
       "      <td>Apple</td>\n",
       "      <td>Positive emotion</td>\n",
       "      <td>False</td>\n",
       "    </tr>\n",
       "    <tr>\n",
       "      <th>2671</th>\n",
       "      <td>And for de Ipad :D?? RT @mention New #UberSocial for #iPhone now in the App Store includes UberGuide to #SXSW  {link}</td>\n",
       "      <td>NaN</td>\n",
       "      <td>No emotion toward brand or product</td>\n",
       "      <td>False</td>\n",
       "    </tr>\n",
       "    <tr>\n",
       "      <th>2819</th>\n",
       "      <td>I am amused at the Apple Pop-up store at #SXSW this year. Brilliant idea... just brilliant. :D {link}</td>\n",
       "      <td>Apple</td>\n",
       "      <td>Positive emotion</td>\n",
       "      <td>False</td>\n",
       "    </tr>\n",
       "    <tr>\n",
       "      <th>3479</th>\n",
       "      <td>@mention Hi Josh. Do yo have an iPhone. Do you have Beluga? Do you get text for DMs? :D #sxsw #sxswi contact plans</td>\n",
       "      <td>NaN</td>\n",
       "      <td>No emotion toward brand or product</td>\n",
       "      <td>False</td>\n",
       "    </tr>\n",
       "  </tbody>\n",
       "</table>\n",
       "</div>"
      ],
      "text/plain": [
       "                                                                                                                                     tweet_text emotion_in_tweet_is_directed_at is_there_an_emotion_directed_at_a_brand_or_product occurs\n",
       "260                              Our #sxsw app is now on #android :D huge props to @mention @mention @mention &amp; @mention Get it now: {link}                             NaN                 No emotion toward brand or product  False\n",
       "2621  Which line at #SXSW will be longer? 3/11 at the temp Apple store for the iPad2? Or 3/14 at the Microsoft booth for IE9? [Yeah, right!] :D                           Apple                                   Positive emotion  False\n",
       "2671                      And for de Ipad :D?? RT @mention New #UberSocial for #iPhone now in the App Store includes UberGuide to #SXSW  {link}                             NaN                 No emotion toward brand or product  False\n",
       "2819                                      I am amused at the Apple Pop-up store at #SXSW this year. Brilliant idea... just brilliant. :D {link}                           Apple                                   Positive emotion  False\n",
       "3479                         @mention Hi Josh. Do yo have an iPhone. Do you have Beluga? Do you get text for DMs? :D #sxsw #sxswi contact plans                             NaN                 No emotion toward brand or product  False"
      ]
     },
     "execution_count": 19,
     "metadata": {},
     "output_type": "execute_result"
    }
   ],
   "source": [
    "# locating any row that contains ':D'\n",
    "df.loc[df['tweet_text'].str.contains('\\:D', case=True, regex=True)][:5]"
   ]
  },
  {
   "cell_type": "code",
   "execution_count": 20,
   "id": "0398dcfd-9ffb-4cb0-9196-38f04221fd7b",
   "metadata": {},
   "outputs": [
    {
     "data": {
      "text/plain": [
       "12"
      ]
     },
     "execution_count": 20,
     "metadata": {},
     "output_type": "execute_result"
    }
   ],
   "source": [
    "grin = df.loc[df['tweet_text'].str.contains('\\:D', case=True, regex=True)]\n",
    "len(grin)"
   ]
  },
  {
   "cell_type": "code",
   "execution_count": 21,
   "id": "13f33c4a-cdf0-4d42-808f-e38419e338e0",
   "metadata": {},
   "outputs": [],
   "source": [
    "#emoticons_list = ['\\:D', '\\:\\)', '\\:/', '\\:-D', '\\:p', '\\:P', '\\:\\(']\n",
    "#emoticons_dictionary = {'\\:D':'em_smile', '\\:)':'em_smile', '\\:/':'em_unsure', '\\:-D':'em_smile', '\\:p':'tongue', '\\:P':'tongue', '\\:(':'frown'}"
   ]
  },
  {
   "cell_type": "code",
   "execution_count": 22,
   "id": "8e629f74-b8ae-4749-a5ce-d7c4389d7aa3",
   "metadata": {},
   "outputs": [
    {
     "data": {
      "text/html": [
       "<div>\n",
       "<style scoped>\n",
       "    .dataframe tbody tr th:only-of-type {\n",
       "        vertical-align: middle;\n",
       "    }\n",
       "\n",
       "    .dataframe tbody tr th {\n",
       "        vertical-align: top;\n",
       "    }\n",
       "\n",
       "    .dataframe thead th {\n",
       "        text-align: right;\n",
       "    }\n",
       "</style>\n",
       "<table border=\"1\" class=\"dataframe\">\n",
       "  <thead>\n",
       "    <tr style=\"text-align: right;\">\n",
       "      <th></th>\n",
       "      <th>tweet_text</th>\n",
       "      <th>emotion_in_tweet_is_directed_at</th>\n",
       "      <th>is_there_an_emotion_directed_at_a_brand_or_product</th>\n",
       "      <th>occurs</th>\n",
       "    </tr>\n",
       "  </thead>\n",
       "  <tbody>\n",
       "    <tr>\n",
       "      <th>78</th>\n",
       "      <td>iPad2? RT @mention Droid &amp;amp; Mac here :) RT @mention My #agnerd confession, using laptop, iPad &amp;amp; blackberry to follow #SXSW</td>\n",
       "      <td>NaN</td>\n",
       "      <td>No emotion toward brand or product</td>\n",
       "      <td>False</td>\n",
       "    </tr>\n",
       "    <tr>\n",
       "      <th>201</th>\n",
       "      <td>U = smart 4 packing an extra :) RT @mention On my way to sunny Austin for #sxsw! Extra iPhone in stow, just in case. @mention @mention</td>\n",
       "      <td>NaN</td>\n",
       "      <td>No emotion toward brand or product</td>\n",
       "      <td>False</td>\n",
       "    </tr>\n",
       "    <tr>\n",
       "      <th>257</th>\n",
       "      <td>Do I need any more for #sxsw! ipad, iphone, laptop, dictaphone, vid.camera.... Wow! Love to  meet the REAL 'cerebellum' charged people:)</td>\n",
       "      <td>iPhone</td>\n",
       "      <td>Positive emotion</td>\n",
       "      <td>True</td>\n",
       "    </tr>\n",
       "    <tr>\n",
       "      <th>288</th>\n",
       "      <td>ÛÏ@mention Apple store downtown Austin open til Midnight. #sxswÛ @mention there's still time :)</td>\n",
       "      <td>Apple</td>\n",
       "      <td>Positive emotion</td>\n",
       "      <td>False</td>\n",
       "    </tr>\n",
       "    <tr>\n",
       "      <th>296</th>\n",
       "      <td>Temporary Apple store at SXSW is really cool...as is the iPad 2 :) #apple #SXSW #fanboy</td>\n",
       "      <td>iPad</td>\n",
       "      <td>Positive emotion</td>\n",
       "      <td>False</td>\n",
       "    </tr>\n",
       "  </tbody>\n",
       "</table>\n",
       "</div>"
      ],
      "text/plain": [
       "                                                                                                                                   tweet_text emotion_in_tweet_is_directed_at is_there_an_emotion_directed_at_a_brand_or_product occurs\n",
       "78          iPad2? RT @mention Droid &amp; Mac here :) RT @mention My #agnerd confession, using laptop, iPad &amp; blackberry to follow #SXSW                             NaN                 No emotion toward brand or product  False\n",
       "201    U = smart 4 packing an extra :) RT @mention On my way to sunny Austin for #sxsw! Extra iPhone in stow, just in case. @mention @mention                             NaN                 No emotion toward brand or product  False\n",
       "257  Do I need any more for #sxsw! ipad, iphone, laptop, dictaphone, vid.camera.... Wow! Love to  meet the REAL 'cerebellum' charged people:)                          iPhone                                   Positive emotion   True\n",
       "288                                        ÛÏ@mention Apple store downtown Austin open til Midnight. #sxswÛ @mention there's still time :)                           Apple                                   Positive emotion  False\n",
       "296                                                   Temporary Apple store at SXSW is really cool...as is the iPad 2 :) #apple #SXSW #fanboy                            iPad                                   Positive emotion  False"
      ]
     },
     "execution_count": 22,
     "metadata": {},
     "output_type": "execute_result"
    }
   ],
   "source": [
    "# locating any row that contains ':\\'\n",
    "df.loc[df['tweet_text'].str.contains('\\:\\)', case=True, regex=True)][:5]"
   ]
  },
  {
   "cell_type": "code",
   "execution_count": 23,
   "id": "5aa647c7-5412-4051-bfc5-1bf2259d47ef",
   "metadata": {},
   "outputs": [
    {
     "data": {
      "text/plain": [
       "\"\\ndef change_emoticon(data):\\n    data = data.str.replace('(?i)\\\\:D', 'emoji_smile')\\n    data = data.str.replace('(?i)\\\\:\\\\)', 'emoji_smile')\\n    data = data.str.replace('(?i)\\\\:-D', 'emoji_smile')\\n    data = data.str.replace('(?i)\\\\:\\\\', 'emoji_unsure')\\n    data = data.str.replace('(?i)\\\\:p', 'emoji_tongue')\\n    data = data.str.replace('(?i)\\\\:P', 'emoji_tongue')\\n    data = data.str.replace('(?i)\\\\:\\\\(', 'emoji_sad')\\n    return data \""
      ]
     },
     "execution_count": 23,
     "metadata": {},
     "output_type": "execute_result"
    }
   ],
   "source": [
    "'''\n",
    "def change_emoticon(data):\n",
    "    data = data.str.replace('(?i)\\:D', 'emoji_smile')\n",
    "    data = data.str.replace('(?i)\\:\\)', 'emoji_smile')\n",
    "    data = data.str.replace('(?i)\\:-D', 'emoji_smile')\n",
    "    data = data.str.replace('(?i)\\:\\\\', 'emoji_unsure')\n",
    "    data = data.str.replace('(?i)\\:p', 'emoji_tongue')\n",
    "    data = data.str.replace('(?i)\\:P', 'emoji_tongue')\n",
    "    data = data.str.replace('(?i)\\:\\(', 'emoji_sad')\n",
    "    return data '''"
   ]
  },
  {
   "cell_type": "code",
   "execution_count": 24,
   "id": "142c0a71-4f63-4929-88a4-c165e39d0554",
   "metadata": {},
   "outputs": [],
   "source": [
    "# Apply the function directly to the DataFrame column\n",
    "#df['tweet_text'] = change_emoticon(df['tweet_text'])"
   ]
  },
  {
   "cell_type": "code",
   "execution_count": 25,
   "id": "d30fe20c-5fa8-420b-8d9a-e72340234ceb",
   "metadata": {},
   "outputs": [
    {
     "data": {
      "text/plain": [
       "\"def change_emoticon(data):\\n    data = data.str.replace('\\\\:D', 'emoji_smile')\\n    data = data.str.replace('\\\\:\\\\)', 'emoji_smile')\\n    data = data.str.replace('\\\\:-D', 'emoji_smile')\\n    data = data.str.replace('\\\\:\\\\', 'emoji_unsure')\\n    data = data.str.replace('\\\\:p', 'emoji_tongue')\\n    data = data.str.replace('\\\\:P', 'emoji_tongue')\\n    data = data.str.replace('\\\\:\\\\(', 'emoji_sad')\\n    return data \""
      ]
     },
     "execution_count": 25,
     "metadata": {},
     "output_type": "execute_result"
    }
   ],
   "source": [
    "'''def change_emoticon(data):\n",
    "    data = data.str.replace('\\:D', 'emoji_smile')\n",
    "    data = data.str.replace('\\:\\)', 'emoji_smile')\n",
    "    data = data.str.replace('\\:-D', 'emoji_smile')\n",
    "    data = data.str.replace('\\:\\\\', 'emoji_unsure')\n",
    "    data = data.str.replace('\\:p', 'emoji_tongue')\n",
    "    data = data.str.replace('\\:P', 'emoji_tongue')\n",
    "    data = data.str.replace('\\:\\(', 'emoji_sad')\n",
    "    return data '''"
   ]
  },
  {
   "cell_type": "code",
   "execution_count": 26,
   "id": "2afa7fd7-9362-452c-8d09-24e124683b72",
   "metadata": {},
   "outputs": [],
   "source": [
    "# Apply the function directly to the DataFrame column\n",
    "#df['tweet_text'] = change_emoticon(df['tweet_text'])"
   ]
  },
  {
   "cell_type": "code",
   "execution_count": 27,
   "id": "59c2d2bd-aa81-4aae-a015-42e8ad350ccc",
   "metadata": {},
   "outputs": [],
   "source": [
    "import re\n",
    "\n",
    "def replace_emoticons(text):\n",
    "    # Define a dictionary mapping emoticons to their corresponding meanings\n",
    "    emoticon_mapping = {\n",
    "        ':D': 'emoji_smile',\n",
    "        ':)': 'emoji_smile',\n",
    "        ':-D': 'emoji_smile',\n",
    "        ':\\\\': 'emoji_unsure',\n",
    "        ':p': 'emoji_tongue',\n",
    "        ':P': 'emoji_tongue',\n",
    "        ':(': 'emoji_sad'\n",
    "        # Add more emoticons and their meanings as needed\n",
    "    }\n",
    "    \n",
    "    # Define a regular expression pattern to match emoticons\n",
    "    pattern = re.compile('|'.join(re.escape(emoticon) for emoticon in emoticon_mapping.keys()))\n",
    "    \n",
    "    # Replace each matched emoticon with its corresponding meaning\n",
    "    def replace(match):\n",
    "        return emoticon_mapping[match.group(0)]\n",
    "    \n",
    "    return pattern.sub(replace, text)\n",
    "\n",
    "# Example usage:\n",
    "# Assuming df is your DataFrame and 'tweet_text' is the column containing tweets\n",
    "df['tweet_text'] = df['tweet_text'].apply(replace_emoticons)"
   ]
  },
  {
   "cell_type": "code",
   "execution_count": 28,
   "id": "12c9caa6-ec3a-4019-9b71-442d90c5ef2e",
   "metadata": {},
   "outputs": [
    {
     "data": {
      "text/plain": [
       "tweet_text                                            iPad2? RT @mention Droid &amp; Mac here emoji_smile RT @mention My #agnerd confession, using laptop, iPad &amp; blackberry to follow #SXSW\n",
       "emotion_in_tweet_is_directed_at                                                                                                                                                              NaN\n",
       "is_there_an_emotion_directed_at_a_brand_or_product                                                                                                            No emotion toward brand or product\n",
       "occurs                                                                                                                                                                                     False\n",
       "Name: 78, dtype: object"
      ]
     },
     "execution_count": 28,
     "metadata": {},
     "output_type": "execute_result"
    }
   ],
   "source": [
    "# checking to make sure it worked\n",
    "df.iloc[78]"
   ]
  },
  {
   "cell_type": "code",
   "execution_count": 29,
   "id": "24fe5116-be16-498d-a1ee-58734a02d93b",
   "metadata": {},
   "outputs": [
    {
     "data": {
      "text/html": [
       "<div>\n",
       "<style scoped>\n",
       "    .dataframe tbody tr th:only-of-type {\n",
       "        vertical-align: middle;\n",
       "    }\n",
       "\n",
       "    .dataframe tbody tr th {\n",
       "        vertical-align: top;\n",
       "    }\n",
       "\n",
       "    .dataframe thead th {\n",
       "        text-align: right;\n",
       "    }\n",
       "</style>\n",
       "<table border=\"1\" class=\"dataframe\">\n",
       "  <thead>\n",
       "    <tr style=\"text-align: right;\">\n",
       "      <th></th>\n",
       "      <th>tweet_text</th>\n",
       "      <th>emotion_in_tweet_is_directed_at</th>\n",
       "      <th>is_there_an_emotion_directed_at_a_brand_or_product</th>\n",
       "      <th>occurs</th>\n",
       "    </tr>\n",
       "  </thead>\n",
       "  <tbody>\n",
       "  </tbody>\n",
       "</table>\n",
       "</div>"
      ],
      "text/plain": [
       "Empty DataFrame\n",
       "Columns: [tweet_text, emotion_in_tweet_is_directed_at, is_there_an_emotion_directed_at_a_brand_or_product, occurs]\n",
       "Index: []"
      ]
     },
     "execution_count": 29,
     "metadata": {},
     "output_type": "execute_result"
    }
   ],
   "source": [
    "# making sure this returns no tweets\n",
    "df.loc[df['tweet_text'].str.contains('\\:\\)', case=True, regex=True)]"
   ]
  },
  {
   "cell_type": "code",
   "execution_count": 30,
   "id": "07c4ef7e-5209-4fb8-956f-4d1eb448279d",
   "metadata": {},
   "outputs": [],
   "source": [
    "import string\n",
    "from IPython.display import display, HTML\n",
    "\n",
    "from sklearn.pipeline import Pipeline\n",
    "from sklearn.impute import SimpleImputer \n",
    "from sklearn.preprocessing import StandardScaler \n",
    "\n",
    "from sklearn.model_selection import train_test_split\n",
    "\n",
    "import nltk\n",
    "from nltk.probability import FreqDist\n",
    "from nltk.tokenize import RegexpTokenizer, word_tokenize, regexp_tokenize\n",
    "from nltk.corpus import stopwords\n",
    "from nltk.stem import PorterStemmer, WordNetLemmatizer"
   ]
  },
  {
   "cell_type": "markdown",
   "id": "2402169d-408e-4954-8fab-1596b020f5a5",
   "metadata": {},
   "source": [
    "# Preprocessing (from Sarah)"
   ]
  },
  {
   "cell_type": "code",
   "execution_count": 31,
   "id": "f6ac8a64-2901-4df3-bb0b-e82439d717d3",
   "metadata": {},
   "outputs": [],
   "source": [
    "df = df.rename(columns = {'tweet_text': 'tweet', \n",
    "                         'emotion_in_tweet_is_directed_at': 'product', \n",
    "                         'is_there_an_emotion_directed_at_a_brand_or_product': 'sentiment'})"
   ]
  },
  {
   "cell_type": "code",
   "execution_count": 32,
   "id": "e89c4c26-3a4a-41bc-b5c5-032d8bdeec80",
   "metadata": {},
   "outputs": [],
   "source": [
    "df['tweet'] = df['tweet'].astype(str)"
   ]
  },
  {
   "cell_type": "code",
   "execution_count": 33,
   "id": "33801e36-40ea-4873-a4ee-0d812966bdf8",
   "metadata": {},
   "outputs": [],
   "source": [
    "#literally just saving this so i dont lose it, trying tweet tokenizer above \n",
    "\n",
    "def preprocess_tweet(tweet):\n",
    "    #remove links\n",
    "    tweet = re.sub(r'http\\S+|@\\S+', '', tweet)\n",
    "    \n",
    "    # remove {link} from rows\n",
    "    tweet1 = re.sub(r'\\{link\\}', '', tweet)\n",
    "    \n",
    "    # Replace &quot; with \"\n",
    "    tweet2 = tweet1.replace('&quot;', '\"')\n",
    "    \n",
    "    # Remove extra space between quotation mark and words\n",
    "    tweet3 = re.sub(r'\\s+\"', '\"', tweet2)\n",
    "    tweet4 = re.sub(r'\"\\s+', '\"', tweet3)\n",
    "    \n",
    "    #convert to lowercase\n",
    "    tweet5 = tweet4.lower()\n",
    "    \n",
    "    # remove numbers\n",
    "    tweet6 = re.sub(r'\\d+', '', tweet5)\n",
    "    \n",
    "    #remove punctuation \n",
    "    tweet7 = re.sub(r'([^\\w\\s]|_)+', ' ', tweet6)\n",
    "    \n",
    "    #tokenize\n",
    "    tokens = nltk.word_tokenize(tweet7)\n",
    "    \n",
    "    #add stopwords\n",
    "    additional_stopwords = {'w', 'u', 'amp', 'sxsw', 'rt'} # amp = & \n",
    "    \n",
    "    stop_words = set(stopwords.words('english')) | additional_stopwords\n",
    "   # stop_words.update(additional_stopwords)\n",
    "    \n",
    "    tweet8 = [word for word in tokens if word not in stop_words]\n",
    "    \n",
    "    #join words back into single string\n",
    "    #doc_tokenized = ' '.join(tweet8)\n",
    "    return tweet8\n",
    "\n",
    "\n",
    "df['tweet'] = df['tweet'].apply(preprocess_tweet)"
   ]
  },
  {
   "cell_type": "code",
   "execution_count": 34,
   "id": "6390180c-c2c8-47f4-8fca-44f6625c1693",
   "metadata": {
    "scrolled": true
   },
   "outputs": [
    {
     "data": {
      "text/html": [
       "<div>\n",
       "<style scoped>\n",
       "    .dataframe tbody tr th:only-of-type {\n",
       "        vertical-align: middle;\n",
       "    }\n",
       "\n",
       "    .dataframe tbody tr th {\n",
       "        vertical-align: top;\n",
       "    }\n",
       "\n",
       "    .dataframe thead th {\n",
       "        text-align: right;\n",
       "    }\n",
       "</style>\n",
       "<table border=\"1\" class=\"dataframe\">\n",
       "  <thead>\n",
       "    <tr style=\"text-align: right;\">\n",
       "      <th></th>\n",
       "      <th>tweet</th>\n",
       "      <th>product</th>\n",
       "      <th>sentiment</th>\n",
       "      <th>occurs</th>\n",
       "    </tr>\n",
       "  </thead>\n",
       "  <tbody>\n",
       "    <tr>\n",
       "      <th>0</th>\n",
       "      <td>[g, iphone, hrs, tweeting, rise, austin, dead, need, upgrade, plugin, stations]</td>\n",
       "      <td>iPhone</td>\n",
       "      <td>Negative emotion</td>\n",
       "      <td>False</td>\n",
       "    </tr>\n",
       "    <tr>\n",
       "      <th>1</th>\n",
       "      <td>[know, awesome, ipad, iphone, app, likely, appreciate, design, also, giving, free, ts]</td>\n",
       "      <td>iPad or iPhone App</td>\n",
       "      <td>Positive emotion</td>\n",
       "      <td>False</td>\n",
       "    </tr>\n",
       "    <tr>\n",
       "      <th>2</th>\n",
       "      <td>[wait, ipad, also, sale]</td>\n",
       "      <td>iPad</td>\n",
       "      <td>Positive emotion</td>\n",
       "      <td>False</td>\n",
       "    </tr>\n",
       "    <tr>\n",
       "      <th>3</th>\n",
       "      <td>[hope, year, festival, crashy, year, iphone, app]</td>\n",
       "      <td>iPad or iPhone App</td>\n",
       "      <td>Negative emotion</td>\n",
       "      <td>False</td>\n",
       "    </tr>\n",
       "    <tr>\n",
       "      <th>4</th>\n",
       "      <td>[great, stuff, fri, marissa, mayer, google, tim, reilly, tech, books, conferences, matt, mullenweg, wordpress]</td>\n",
       "      <td>Google</td>\n",
       "      <td>Positive emotion</td>\n",
       "      <td>False</td>\n",
       "    </tr>\n",
       "  </tbody>\n",
       "</table>\n",
       "</div>"
      ],
      "text/plain": [
       "                                                                                                            tweet             product         sentiment occurs\n",
       "0                                 [g, iphone, hrs, tweeting, rise, austin, dead, need, upgrade, plugin, stations]              iPhone  Negative emotion  False\n",
       "1                          [know, awesome, ipad, iphone, app, likely, appreciate, design, also, giving, free, ts]  iPad or iPhone App  Positive emotion  False\n",
       "2                                                                                        [wait, ipad, also, sale]                iPad  Positive emotion  False\n",
       "3                                                               [hope, year, festival, crashy, year, iphone, app]  iPad or iPhone App  Negative emotion  False\n",
       "4  [great, stuff, fri, marissa, mayer, google, tim, reilly, tech, books, conferences, matt, mullenweg, wordpress]              Google  Positive emotion  False"
      ]
     },
     "execution_count": 34,
     "metadata": {},
     "output_type": "execute_result"
    }
   ],
   "source": [
    "df.head()"
   ]
  },
  {
   "cell_type": "code",
   "execution_count": 41,
   "id": "800629ad-7f1d-41df-8449-88fd664cff64",
   "metadata": {},
   "outputs": [],
   "source": [
    "import nltk\n",
    "from nltk.corpus import wordnet\n",
    "\n",
    "def get_wordnet_pos(tokens):\n",
    "    \"\"\"Map POS tag to first character lemmatize() accepts\"\"\"\n",
    "    tags = nltk.pos_tag(tokens)\n",
    "    pos_tags = []\n",
    "    for _, tag in tags:\n",
    "        tag = tag[0].upper()\n",
    "        tag_dict = {\"J\": wordnet.ADJ,\n",
    "                    \"N\": wordnet.NOUN,\n",
    "                    \"V\": wordnet.VERB,\n",
    "                    \"R\": wordnet.ADV}\n",
    "        pos_tags.append(tag_dict.get(tag, wordnet.NOUN))\n",
    "    return pos_tags\n",
    "\n",
    "# Assuming df['tweet'] is a column containing lists of tokens\n",
    "df['pos'] = df['tweet'].apply(get_wordnet_pos)"
   ]
  },
  {
   "cell_type": "code",
   "execution_count": 42,
   "id": "ee9624b5-11ac-4d9a-80b3-c541373e6692",
   "metadata": {},
   "outputs": [
    {
     "data": {
      "text/plain": [
       "tweet        [beautifully, smart, simple, idea, wrote, hollergram, ipad, app]\n",
       "product                                                                 Apple\n",
       "sentiment                                                    Positive emotion\n",
       "occurs                                                                  False\n",
       "pos                                                  [r, a, a, n, v, a, n, n]\n",
       "Name: 8, dtype: object"
      ]
     },
     "execution_count": 42,
     "metadata": {},
     "output_type": "execute_result"
    }
   ],
   "source": [
    "df.iloc[8]"
   ]
  },
  {
   "cell_type": "code",
   "execution_count": 37,
   "id": "82ee6db6-1189-4525-a242-7cbd2a94face",
   "metadata": {},
   "outputs": [],
   "source": [
    "# to lemmatize\n",
    "import nltk\n",
    "from nltk.stem import WordNetLemmatizer\n",
    "\n",
    "def lemmer(doc_tokenized):\n",
    "    lemmatizer = WordNetLemmatizer()\n",
    "    # Lemmatize each token in the document\n",
    "    doc_tokenized = [lemmatizer.lemmatize(word) for word in doc_tokenized]\n",
    "    return doc_tokenized\n",
    "\n",
    "# Example usage:\n",
    "# Assuming df['tweet'] contains the text data to be lemmatized\n",
    "df['tweet'] = df['tweet'].apply(lemmer)"
   ]
  },
  {
   "cell_type": "code",
   "execution_count": 38,
   "id": "3d05379d-eaed-4e67-b9a2-80770d5adf41",
   "metadata": {},
   "outputs": [
    {
     "data": {
      "text/html": [
       "<div>\n",
       "<style scoped>\n",
       "    .dataframe tbody tr th:only-of-type {\n",
       "        vertical-align: middle;\n",
       "    }\n",
       "\n",
       "    .dataframe tbody tr th {\n",
       "        vertical-align: top;\n",
       "    }\n",
       "\n",
       "    .dataframe thead th {\n",
       "        text-align: right;\n",
       "    }\n",
       "</style>\n",
       "<table border=\"1\" class=\"dataframe\">\n",
       "  <thead>\n",
       "    <tr style=\"text-align: right;\">\n",
       "      <th></th>\n",
       "      <th>tweet</th>\n",
       "      <th>product</th>\n",
       "      <th>sentiment</th>\n",
       "      <th>occurs</th>\n",
       "      <th>pos</th>\n",
       "    </tr>\n",
       "  </thead>\n",
       "  <tbody>\n",
       "    <tr>\n",
       "      <th>0</th>\n",
       "      <td>[g, iphone, hr, tweeting, rise, austin, dead, need, upgrade, plugin, station]</td>\n",
       "      <td>iPhone</td>\n",
       "      <td>Negative emotion</td>\n",
       "      <td>False</td>\n",
       "      <td>[n, n, n, v, n, n, a, n, a, n, n]</td>\n",
       "    </tr>\n",
       "    <tr>\n",
       "      <th>1</th>\n",
       "      <td>[know, awesome, ipad, iphone, app, likely, appreciate, design, also, giving, free, t]</td>\n",
       "      <td>iPad or iPhone App</td>\n",
       "      <td>Positive emotion</td>\n",
       "      <td>False</td>\n",
       "      <td>[v, a, n, n, n, a, n, n, r, v, a, n]</td>\n",
       "    </tr>\n",
       "    <tr>\n",
       "      <th>2</th>\n",
       "      <td>[wait, ipad, also, sale]</td>\n",
       "      <td>iPad</td>\n",
       "      <td>Positive emotion</td>\n",
       "      <td>False</td>\n",
       "      <td>[n, n, r, n]</td>\n",
       "    </tr>\n",
       "    <tr>\n",
       "      <th>3</th>\n",
       "      <td>[hope, year, festival, crashy, year, iphone, app]</td>\n",
       "      <td>iPad or iPhone App</td>\n",
       "      <td>Negative emotion</td>\n",
       "      <td>False</td>\n",
       "      <td>[n, n, n, a, n, n, n]</td>\n",
       "    </tr>\n",
       "    <tr>\n",
       "      <th>4</th>\n",
       "      <td>[great, stuff, fri, marissa, mayer, google, tim, reilly, tech, book, conference, matt, mullenweg, wordpress]</td>\n",
       "      <td>Google</td>\n",
       "      <td>Positive emotion</td>\n",
       "      <td>False</td>\n",
       "      <td>[a, n, n, n, n, n, n, r, a, n, n, v, n, n]</td>\n",
       "    </tr>\n",
       "    <tr>\n",
       "      <th>5</th>\n",
       "      <td>[new, ipad, apps, speechtherapy, communication, showcased, conference, iear, edchat, asd]</td>\n",
       "      <td>NaN</td>\n",
       "      <td>No emotion toward brand or product</td>\n",
       "      <td>False</td>\n",
       "      <td>[a, n, n, n, n, v, n, n, n, n]</td>\n",
       "    </tr>\n",
       "    <tr>\n",
       "      <th>6</th>\n",
       "      <td>[]</td>\n",
       "      <td>NaN</td>\n",
       "      <td>No emotion toward brand or product</td>\n",
       "      <td>NaN</td>\n",
       "      <td>[]</td>\n",
       "    </tr>\n",
       "    <tr>\n",
       "      <th>7</th>\n",
       "      <td>[starting, ctia, around, corner, googleio, hop, skip, jump, good, time, android, fan]</td>\n",
       "      <td>Android</td>\n",
       "      <td>Positive emotion</td>\n",
       "      <td>False</td>\n",
       "      <td>[v, n, n, n, n, n, a, n, a, n, a, n]</td>\n",
       "    </tr>\n",
       "    <tr>\n",
       "      <th>8</th>\n",
       "      <td>[beautifully, smart, simple, idea, wrote, hollergram, ipad, app]</td>\n",
       "      <td>iPad or iPhone App</td>\n",
       "      <td>Positive emotion</td>\n",
       "      <td>False</td>\n",
       "      <td>[r, a, a, n, v, a, n, n]</td>\n",
       "    </tr>\n",
       "    <tr>\n",
       "      <th>9</th>\n",
       "      <td>[counting, day, plus, strong, canadian, dollar, mean, stock, apple, gear]</td>\n",
       "      <td>Apple</td>\n",
       "      <td>Positive emotion</td>\n",
       "      <td>False</td>\n",
       "      <td>[n, n, n, a, a, n, n, n, n, n]</td>\n",
       "    </tr>\n",
       "  </tbody>\n",
       "</table>\n",
       "</div>"
      ],
      "text/plain": [
       "                                                                                                          tweet             product                           sentiment occurs                                         pos\n",
       "0                                 [g, iphone, hr, tweeting, rise, austin, dead, need, upgrade, plugin, station]              iPhone                    Negative emotion  False           [n, n, n, v, n, n, a, n, a, n, n]\n",
       "1                         [know, awesome, ipad, iphone, app, likely, appreciate, design, also, giving, free, t]  iPad or iPhone App                    Positive emotion  False        [v, a, n, n, n, a, n, n, r, v, a, n]\n",
       "2                                                                                      [wait, ipad, also, sale]                iPad                    Positive emotion  False                                [n, n, r, n]\n",
       "3                                                             [hope, year, festival, crashy, year, iphone, app]  iPad or iPhone App                    Negative emotion  False                       [n, n, n, a, n, n, n]\n",
       "4  [great, stuff, fri, marissa, mayer, google, tim, reilly, tech, book, conference, matt, mullenweg, wordpress]              Google                    Positive emotion  False  [a, n, n, n, n, n, n, r, a, n, n, v, n, n]\n",
       "5                     [new, ipad, apps, speechtherapy, communication, showcased, conference, iear, edchat, asd]                 NaN  No emotion toward brand or product  False              [a, n, n, n, n, v, n, n, n, n]\n",
       "6                                                                                                            []                 NaN  No emotion toward brand or product    NaN                                          []\n",
       "7                         [starting, ctia, around, corner, googleio, hop, skip, jump, good, time, android, fan]             Android                    Positive emotion  False        [v, n, n, n, n, n, a, n, a, n, a, n]\n",
       "8                                              [beautifully, smart, simple, idea, wrote, hollergram, ipad, app]  iPad or iPhone App                    Positive emotion  False                    [r, a, a, n, v, a, n, n]\n",
       "9                                     [counting, day, plus, strong, canadian, dollar, mean, stock, apple, gear]               Apple                    Positive emotion  False              [n, n, n, a, a, n, n, n, n, n]"
      ]
     },
     "execution_count": 38,
     "metadata": {},
     "output_type": "execute_result"
    }
   ],
   "source": [
    "df.head(10)"
   ]
  },
  {
   "cell_type": "code",
   "execution_count": 39,
   "id": "a6ea0d15-aa4b-4be3-a038-489c67633ed6",
   "metadata": {},
   "outputs": [
    {
     "data": {
      "text/plain": [
       "tweet        [beautifully, smart, simple, idea, wrote, hollergram, ipad, app]\n",
       "product                                                    iPad or iPhone App\n",
       "sentiment                                                    Positive emotion\n",
       "occurs                                                                  False\n",
       "pos                                                  [r, a, a, n, v, a, n, n]\n",
       "Name: 8, dtype: object"
      ]
     },
     "execution_count": 39,
     "metadata": {},
     "output_type": "execute_result"
    }
   ],
   "source": [
    "df.iloc[8]"
   ]
  },
  {
   "cell_type": "code",
   "execution_count": 40,
   "id": "6a2dab46-db7f-4f8a-8f46-7698931b762a",
   "metadata": {},
   "outputs": [],
   "source": [
    "# combined and renamed Apple products and non Apple products \n",
    "\n",
    "df['product'] = df['product'].replace({\n",
    "    'iPad': 'Apple',\n",
    "    'Apple': 'Apple',\n",
    "    'iPad or iPhone App': 'Apple',\n",
    "    'iPhone': 'Apple',\n",
    "    'Other Apple product or service': 'Apple',\n",
    "    'Google': 'Other',\n",
    "    'Other Google product or service': 'Other',\n",
    "    'Android App': 'Other',\n",
    "    'Android': 'Other'\n",
    "})"
   ]
  },
  {
   "cell_type": "code",
   "execution_count": 45,
   "id": "6c79d1d9-706f-428f-adfb-13256fc37cfe",
   "metadata": {},
   "outputs": [],
   "source": [
    "apple_df = df.loc[df['product'] == 'Apple']"
   ]
  },
  {
   "cell_type": "code",
   "execution_count": 46,
   "id": "0b412598-6824-427b-9065-3931a087d2ee",
   "metadata": {},
   "outputs": [
    {
     "data": {
      "text/html": [
       "<div>\n",
       "<style scoped>\n",
       "    .dataframe tbody tr th:only-of-type {\n",
       "        vertical-align: middle;\n",
       "    }\n",
       "\n",
       "    .dataframe tbody tr th {\n",
       "        vertical-align: top;\n",
       "    }\n",
       "\n",
       "    .dataframe thead th {\n",
       "        text-align: right;\n",
       "    }\n",
       "</style>\n",
       "<table border=\"1\" class=\"dataframe\">\n",
       "  <thead>\n",
       "    <tr style=\"text-align: right;\">\n",
       "      <th></th>\n",
       "      <th>tweet</th>\n",
       "      <th>product</th>\n",
       "      <th>sentiment</th>\n",
       "      <th>occurs</th>\n",
       "      <th>pos</th>\n",
       "    </tr>\n",
       "  </thead>\n",
       "  <tbody>\n",
       "    <tr>\n",
       "      <th>0</th>\n",
       "      <td>[g, iphone, hr, tweeting, rise, austin, dead, need, upgrade, plugin, station]</td>\n",
       "      <td>Apple</td>\n",
       "      <td>Negative emotion</td>\n",
       "      <td>False</td>\n",
       "      <td>[n, n, n, v, n, n, a, n, a, n, n]</td>\n",
       "    </tr>\n",
       "    <tr>\n",
       "      <th>1</th>\n",
       "      <td>[know, awesome, ipad, iphone, app, likely, appreciate, design, also, giving, free, t]</td>\n",
       "      <td>Apple</td>\n",
       "      <td>Positive emotion</td>\n",
       "      <td>False</td>\n",
       "      <td>[v, a, n, n, n, a, n, n, r, v, a, n]</td>\n",
       "    </tr>\n",
       "    <tr>\n",
       "      <th>2</th>\n",
       "      <td>[wait, ipad, also, sale]</td>\n",
       "      <td>Apple</td>\n",
       "      <td>Positive emotion</td>\n",
       "      <td>False</td>\n",
       "      <td>[n, n, r, n]</td>\n",
       "    </tr>\n",
       "    <tr>\n",
       "      <th>3</th>\n",
       "      <td>[hope, year, festival, crashy, year, iphone, app]</td>\n",
       "      <td>Apple</td>\n",
       "      <td>Negative emotion</td>\n",
       "      <td>False</td>\n",
       "      <td>[n, n, n, a, n, n, n]</td>\n",
       "    </tr>\n",
       "    <tr>\n",
       "      <th>8</th>\n",
       "      <td>[beautifully, smart, simple, idea, wrote, hollergram, ipad, app]</td>\n",
       "      <td>Apple</td>\n",
       "      <td>Positive emotion</td>\n",
       "      <td>False</td>\n",
       "      <td>[r, a, a, n, v, a, n, n]</td>\n",
       "    </tr>\n",
       "  </tbody>\n",
       "</table>\n",
       "</div>"
      ],
      "text/plain": [
       "                                                                                   tweet product         sentiment occurs                                   pos\n",
       "0          [g, iphone, hr, tweeting, rise, austin, dead, need, upgrade, plugin, station]   Apple  Negative emotion  False     [n, n, n, v, n, n, a, n, a, n, n]\n",
       "1  [know, awesome, ipad, iphone, app, likely, appreciate, design, also, giving, free, t]   Apple  Positive emotion  False  [v, a, n, n, n, a, n, n, r, v, a, n]\n",
       "2                                                               [wait, ipad, also, sale]   Apple  Positive emotion  False                          [n, n, r, n]\n",
       "3                                      [hope, year, festival, crashy, year, iphone, app]   Apple  Negative emotion  False                 [n, n, n, a, n, n, n]\n",
       "8                       [beautifully, smart, simple, idea, wrote, hollergram, ipad, app]   Apple  Positive emotion  False              [r, a, a, n, v, a, n, n]"
      ]
     },
     "execution_count": 46,
     "metadata": {},
     "output_type": "execute_result"
    }
   ],
   "source": [
    "apple_df.head()"
   ]
  },
  {
   "cell_type": "code",
   "execution_count": 47,
   "id": "2a0f5040-af2a-4eb7-aef1-ba5bb6f69a75",
   "metadata": {},
   "outputs": [
    {
     "data": {
      "text/plain": [
       "sentiment\n",
       "Positive emotion                      1949\n",
       "Negative emotion                       388\n",
       "No emotion toward brand or product      65\n",
       "I can't tell                             7\n",
       "Name: count, dtype: int64"
      ]
     },
     "execution_count": 47,
     "metadata": {},
     "output_type": "execute_result"
    }
   ],
   "source": [
    "apple_df['sentiment'].value_counts()"
   ]
  },
  {
   "cell_type": "code",
   "execution_count": null,
   "id": "6a1fe25f-fe31-4bee-aeec-df871092e154",
   "metadata": {},
   "outputs": [],
   "source": []
  }
 ],
 "metadata": {
  "kernelspec": {
   "display_name": "Python (learn-env)",
   "language": "python",
   "name": "learn-env"
  },
  "language_info": {
   "codemirror_mode": {
    "name": "ipython",
    "version": 3
   },
   "file_extension": ".py",
   "mimetype": "text/x-python",
   "name": "python",
   "nbconvert_exporter": "python",
   "pygments_lexer": "ipython3",
   "version": "3.9.15"
  }
 },
 "nbformat": 4,
 "nbformat_minor": 5
}
